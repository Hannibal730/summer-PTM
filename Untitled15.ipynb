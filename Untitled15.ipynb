{
  "nbformat": 4,
  "nbformat_minor": 0,
  "metadata": {
    "colab": {
      "provenance": [],
      "authorship_tag": "ABX9TyN2yoAaPf0u6JG3rEXbkux8",
      "include_colab_link": true
    },
    "kernelspec": {
      "name": "python3",
      "display_name": "Python 3"
    },
    "language_info": {
      "name": "python"
    }
  },
  "cells": [
    {
      "cell_type": "markdown",
      "metadata": {
        "id": "view-in-github",
        "colab_type": "text"
      },
      "source": [
        "<a href=\"https://colab.research.google.com/github/Hannibal730/summer-PTM/blob/main/Untitled15.ipynb\" target=\"_parent\"><img src=\"https://colab.research.google.com/assets/colab-badge.svg\" alt=\"Open In Colab\"/></a>"
      ]
    },
    {
      "cell_type": "markdown",
      "source": [
        "# 정렬 알고리즘\n",
        "(1) 선택정렬: 선형검색으로 최소값 찾고서, 최소값을 맨 앞으로 보냄. 그리고 걔를 제외하고 나머지 애들끼리 이를 반복"
      ],
      "metadata": {
        "id": "pVmPJKRccPIX"
      }
    },
    {
      "cell_type": "code",
      "execution_count": 20,
      "metadata": {
        "colab": {
          "base_uri": "https://localhost:8080/"
        },
        "id": "71BfHWm5cJXB",
        "outputId": "f21f9580-b8c3-4e4d-d6a7-691c73ce77ea"
      },
      "outputs": [
        {
          "output_type": "stream",
          "name": "stdout",
          "text": [
            "인덱스 순서에 따라 설정된 가짜 최소값: 40\n",
            "실제 최소값: 10\n",
            "교환 후: [10, 70, 60, 30, 40, 50]\n",
            "인덱스 순서에 따라 설정된 가짜 최소값: 70\n",
            "실제 최소값: 30\n",
            "교환 후: [10, 30, 60, 70, 40, 50]\n",
            "인덱스 순서에 따라 설정된 가짜 최소값: 60\n",
            "실제 최소값: 40\n",
            "교환 후: [10, 30, 40, 70, 60, 50]\n",
            "인덱스 순서에 따라 설정된 가짜 최소값: 70\n",
            "실제 최소값: 50\n",
            "교환 후: [10, 30, 40, 50, 60, 70]\n",
            "인덱스 순서에 따라 설정된 가짜 최소값: 60\n",
            "실제 최소값: 60\n",
            "교환 후: [10, 30, 40, 50, 60, 70]\n",
            "인덱스 순서에 따라 설정된 가짜 최소값: 70\n",
            "실제 최소값: 70\n",
            "교환 후: [10, 30, 40, 50, 60, 70]\n",
            "최종결과는 [10, 30, 40, 50, 60, 70]\n"
          ]
        }
      ],
      "source": [
        "# while과 for 써서 선택정렬\n",
        "\n",
        "data=[40,70,60,30,10,50]\n",
        "#     0  1  2  3  4  5\n",
        "\n",
        "idx=0\n",
        "while idx<len(data):\n",
        "\n",
        "# 1. 최소값 찾기\n",
        "  min_idx=idx\n",
        "  print(f'인덱스 순서에 따라 설정된 가짜 최소값: {data[min_idx]}')\n",
        "  for i in range(min_idx+1,len(data)):   # min_idx로 정한 0번째를 제외한 나머지\n",
        "    if data[i]<data[min_idx]: #만약 이렇다면,\n",
        "      min_idx=i #최소값 갱신.\n",
        "      #print(f'갱신 중인 최소값: {data[min_idx]}')\n",
        "  print(f'실제 최소값: {data[min_idx]}')\n",
        "\n",
        "# 2. 찾은 실제 최소값과 idx순서의 값(0번째부터 마지막까지 와일로 반복)과 비교 및 교환하기\n",
        "  data[min_idx],data[idx]=data[idx],data[min_idx]\n",
        "  print(f'교환 후: {data}')\n",
        "  idx+=1\n",
        "print(f'최종결과는 {data}')"
      ]
    },
    {
      "cell_type": "code",
      "source": [
        "# for 두 번 써서 선택정렬\n",
        "\n",
        "data=[40,70,60,30,10,50]\n",
        "#     0  1  2  3  4  5\n",
        "\n",
        "for idx in range(len(data)):\n",
        "\n",
        "# 1. 최소값 찾기\n",
        "  print(f'{idx+1}번째 정렬')\n",
        "  min_idx=idx\n",
        "  print(f'인덱스 순서에 따라 설정된 가짜 최소값: {data[min_idx]}')\n",
        "  for i in range(min_idx+1,len(data)):   # min_idx로 정한 0번째를 제외한 나머지\n",
        "    if data[i]<data[min_idx]: #만약 이렇다면,\n",
        "      min_idx=i #최소값 갱신.\n",
        "      #print(f'갱신 중인 최소값: {data[min_idx]}')\n",
        "  print(f'실제 최소값: {data[min_idx]}',end='->')\n",
        "\n",
        "# 2. 찾은 실제 최소값과 idx순서의 값(0번째부터 마지막까지 와일로 반복)과 비교 및 교환하기\n",
        "  data[min_idx],data[idx]=data[idx],data[min_idx]\n",
        "  print(f'교환 후: {data}')\n",
        "  print()\n",
        "print(f'최종결과는 {data}')"
      ],
      "metadata": {
        "colab": {
          "base_uri": "https://localhost:8080/"
        },
        "id": "C41G_4GAev__",
        "outputId": "4acc4c12-8738-4528-89bd-33009c1b7498"
      },
      "execution_count": 23,
      "outputs": [
        {
          "output_type": "stream",
          "name": "stdout",
          "text": [
            "1번째 정렬\n",
            "인덱스 순서에 따라 설정된 가짜 최소값: 40\n",
            "실제 최소값: 10->교환 후: [10, 70, 60, 30, 40, 50]\n",
            "\n",
            "2번째 정렬\n",
            "인덱스 순서에 따라 설정된 가짜 최소값: 70\n",
            "실제 최소값: 30->교환 후: [10, 30, 60, 70, 40, 50]\n",
            "\n",
            "3번째 정렬\n",
            "인덱스 순서에 따라 설정된 가짜 최소값: 60\n",
            "실제 최소값: 40->교환 후: [10, 30, 40, 70, 60, 50]\n",
            "\n",
            "4번째 정렬\n",
            "인덱스 순서에 따라 설정된 가짜 최소값: 70\n",
            "실제 최소값: 50->교환 후: [10, 30, 40, 50, 60, 70]\n",
            "\n",
            "5번째 정렬\n",
            "인덱스 순서에 따라 설정된 가짜 최소값: 60\n",
            "실제 최소값: 60->교환 후: [10, 30, 40, 50, 60, 70]\n",
            "\n",
            "6번째 정렬\n",
            "인덱스 순서에 따라 설정된 가짜 최소값: 70\n",
            "실제 최소값: 70->교환 후: [10, 30, 40, 50, 60, 70]\n",
            "\n",
            "최종결과는 [10, 30, 40, 50, 60, 70]\n"
          ]
        }
      ]
    },
    {
      "cell_type": "markdown",
      "source": [
        "(2) 버블정렬: 맨 왼쪽에서부터 인접한 두 개끼리 비교하고, 크기 순서로 교환.\n",
        "이 작업을 맨 오른쪽까지 반복함.\n",
        "이 과정을 1패스라고 함.\n",
        "정렬이 완료될 때까지 패스를 반복함."
      ],
      "metadata": {
        "id": "J1AaZPA1m0K-"
      }
    },
    {
      "cell_type": "code",
      "source": [
        "#while 써서 버블정렬\n",
        "\n",
        "data=[40,70,60,30,10,50]\n",
        "\n",
        "n=len(data)-1  #5\n",
        "\n",
        "while n>1:\n",
        "\n",
        "  for i in range(len(data)-1):\n",
        "    if data[i]>data[i+1]:\n",
        "      data[i],data[i+1]=data[i+1],data[i]\n",
        "      print(f'교환 후: {data}')\n",
        "  print(f'패스의 결과: {data}')\n",
        "  n-=1  # 이렇게 5에서 1씩 줄여나가되, n>1일 때까지면 4번 반복임. 이론상 4번 반복이면 리스트 내에서 맨 뒤에서 맨 앞으로 이동 가능\n",
        "  print()\n",
        "print(f'최종 결과: {data}')\n"
      ],
      "metadata": {
        "colab": {
          "base_uri": "https://localhost:8080/"
        },
        "id": "hx14Rd12jTym",
        "outputId": "fd3c9a0a-3ccc-4b99-a2a7-9bf2605696b2"
      },
      "execution_count": 29,
      "outputs": [
        {
          "output_type": "stream",
          "name": "stdout",
          "text": [
            "교환 후: [40, 60, 70, 30, 10, 50]\n",
            "교환 후: [40, 60, 30, 70, 10, 50]\n",
            "교환 후: [40, 60, 30, 10, 70, 50]\n",
            "교환 후: [40, 60, 30, 10, 50, 70]\n",
            "패스의 결과: [40, 60, 30, 10, 50, 70]\n",
            "\n",
            "교환 후: [40, 30, 60, 10, 50, 70]\n",
            "교환 후: [40, 30, 10, 60, 50, 70]\n",
            "교환 후: [40, 30, 10, 50, 60, 70]\n",
            "패스의 결과: [40, 30, 10, 50, 60, 70]\n",
            "\n",
            "교환 후: [30, 40, 10, 50, 60, 70]\n",
            "교환 후: [30, 10, 40, 50, 60, 70]\n",
            "패스의 결과: [30, 10, 40, 50, 60, 70]\n",
            "\n",
            "교환 후: [10, 30, 40, 50, 60, 70]\n",
            "패스의 결과: [10, 30, 40, 50, 60, 70]\n",
            "\n",
            "최종 결과: [10, 30, 40, 50, 60, 70]\n"
          ]
        }
      ]
    },
    {
      "cell_type": "code",
      "source": [
        "#for 써서 버블정렬\n",
        "\n",
        "data=[40,70,60,30,10,50]\n",
        "\n",
        "n=len(data)-1  #5\n",
        "\n",
        "for n in range(len(data)-1, 0 ,-1):\n",
        "\n",
        "  for i in range(len(data)-1):\n",
        "    if data[i]>data[i+1]:\n",
        "      data[i],data[i+1]=data[i+1],data[i]\n",
        "      print(f'교환 후: {data}')\n",
        "  print(f'패스의 결과: {data}')\n",
        "  print()\n",
        "print(f'최종 결과: {data}')\n"
      ],
      "metadata": {
        "colab": {
          "base_uri": "https://localhost:8080/"
        },
        "id": "y6u3qIW1pE7h",
        "outputId": "175cb1f1-75bb-42dc-f521-f41a86f9be76"
      },
      "execution_count": 31,
      "outputs": [
        {
          "output_type": "stream",
          "name": "stdout",
          "text": [
            "교환 후: [40, 60, 70, 30, 10, 50]\n",
            "교환 후: [40, 60, 30, 70, 10, 50]\n",
            "교환 후: [40, 60, 30, 10, 70, 50]\n",
            "교환 후: [40, 60, 30, 10, 50, 70]\n",
            "패스의 결과: [40, 60, 30, 10, 50, 70]\n",
            "\n",
            "교환 후: [40, 30, 60, 10, 50, 70]\n",
            "교환 후: [40, 30, 10, 60, 50, 70]\n",
            "교환 후: [40, 30, 10, 50, 60, 70]\n",
            "패스의 결과: [40, 30, 10, 50, 60, 70]\n",
            "\n",
            "교환 후: [30, 40, 10, 50, 60, 70]\n",
            "교환 후: [30, 10, 40, 50, 60, 70]\n",
            "패스의 결과: [30, 10, 40, 50, 60, 70]\n",
            "\n",
            "교환 후: [10, 30, 40, 50, 60, 70]\n",
            "패스의 결과: [10, 30, 40, 50, 60, 70]\n",
            "\n",
            "패스의 결과: [10, 30, 40, 50, 60, 70]\n",
            "\n",
            "최종 결과: [10, 30, 40, 50, 60, 70]\n"
          ]
        }
      ]
    },
    {
      "cell_type": "markdown",
      "source": [
        "(3)삽입정렬:정렬된 부분과 정렬이 안된 부분으로 나눠서 비교 분석, 교환\n",
        "\n",
        "이때 맨 왼쪽은 무조건 정렬이 되어 있다는 가정 하에 시작함.\n",
        "\n",
        "정렬이 안 된 것 중에 맨 처음값을 정렬이 된 것 중에 맨 마지막 값과 비교"
      ],
      "metadata": {
        "id": "PdAsQI3qrvvX"
      }
    },
    {
      "cell_type": "code",
      "source": [
        "data=[40,70,60,30,10,50]\n",
        "\n",
        "# 인덱스0은 정렬된 것으로 깔고 들어감. 인덱스1부터가 정렬이 안 된 것들\n",
        "# 정렬 된 것과 안 된 것의 기준을 반복문의 기준으로 함\n",
        "\n",
        "\n",
        "idx=1\n",
        "while idx<len(data):\n",
        "\n",
        "  for i in range(len(data)-1,0,-1):\n",
        "    if data[i] < data[i-1]:\n",
        "      data[i],data[i-1]=data[i-1],data[i]\n",
        "      print(f'교환 후: {data}')\n",
        "    #else:\n",
        "      #print('변동없음')\n",
        "  idx+=1\n",
        "  print()\n",
        "\n",
        "print(f'최종결과: {data}')"
      ],
      "metadata": {
        "colab": {
          "base_uri": "https://localhost:8080/"
        },
        "id": "qvUyRyYUrcif",
        "outputId": "d266ebaf-c4f7-4285-ca53-00215d788d12"
      },
      "execution_count": 39,
      "outputs": [
        {
          "output_type": "stream",
          "name": "stdout",
          "text": [
            "교환 후: [40, 70, 60, 10, 30, 50]\n",
            "교환 후: [40, 70, 10, 60, 30, 50]\n",
            "교환 후: [40, 10, 70, 60, 30, 50]\n",
            "교환 후: [10, 40, 70, 60, 30, 50]\n",
            "\n",
            "교환 후: [10, 40, 70, 30, 60, 50]\n",
            "교환 후: [10, 40, 30, 70, 60, 50]\n",
            "교환 후: [10, 30, 40, 70, 60, 50]\n",
            "\n",
            "교환 후: [10, 30, 40, 70, 50, 60]\n",
            "교환 후: [10, 30, 40, 50, 70, 60]\n",
            "\n",
            "교환 후: [10, 30, 40, 50, 60, 70]\n",
            "\n",
            "\n",
            "최종결과: [10, 30, 40, 50, 60, 70]\n"
          ]
        }
      ]
    },
    {
      "cell_type": "code",
      "source": [
        "data=[40,70,60,30,10,50]\n",
        "\n",
        "\n",
        "\n",
        "for idx in range(1,len(data)):\n",
        "\n",
        "  for i in range(len(data)-1,0,-1):\n",
        "    if data[i] < data[i-1]:\n",
        "      data[i],data[i-1]=data[i-1],data[i]\n",
        "      print(f'교환 후: {data}')\n",
        "    #else:\n",
        "      #print('변동없음')\n",
        "  print()\n",
        "\n",
        "print(f'최종결과: {data}')"
      ],
      "metadata": {
        "colab": {
          "base_uri": "https://localhost:8080/"
        },
        "id": "X0OXcxWuuxnH",
        "outputId": "da69d4a3-b02b-4df6-822a-20b35092572e"
      },
      "execution_count": 40,
      "outputs": [
        {
          "output_type": "stream",
          "name": "stdout",
          "text": [
            "교환 후: [40, 70, 60, 10, 30, 50]\n",
            "교환 후: [40, 70, 10, 60, 30, 50]\n",
            "교환 후: [40, 10, 70, 60, 30, 50]\n",
            "교환 후: [10, 40, 70, 60, 30, 50]\n",
            "\n",
            "교환 후: [10, 40, 70, 30, 60, 50]\n",
            "교환 후: [10, 40, 30, 70, 60, 50]\n",
            "교환 후: [10, 30, 40, 70, 60, 50]\n",
            "\n",
            "교환 후: [10, 30, 40, 70, 50, 60]\n",
            "교환 후: [10, 30, 40, 50, 70, 60]\n",
            "\n",
            "교환 후: [10, 30, 40, 50, 60, 70]\n",
            "\n",
            "\n",
            "최종결과: [10, 30, 40, 50, 60, 70]\n"
          ]
        }
      ]
    },
    {
      "cell_type": "code",
      "source": [],
      "metadata": {
        "id": "wgsMBODAvlMi"
      },
      "execution_count": null,
      "outputs": []
    }
  ]
}