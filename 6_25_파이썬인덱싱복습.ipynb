{
  "nbformat": 4,
  "nbformat_minor": 0,
  "metadata": {
    "colab": {
      "provenance": [],
      "authorship_tag": "ABX9TyO4pNoI1/tRhKOWk1RzX3Vu",
      "include_colab_link": true
    },
    "kernelspec": {
      "name": "python3",
      "display_name": "Python 3"
    },
    "language_info": {
      "name": "python"
    }
  },
  "cells": [
    {
      "cell_type": "markdown",
      "metadata": {
        "id": "view-in-github",
        "colab_type": "text"
      },
      "source": [
        "<a href=\"https://colab.research.google.com/github/Hannibal730/summer-PTM/blob/main/6_25_%ED%8C%8C%EC%9D%B4%EC%8D%AC%EC%9D%B8%EB%8D%B1%EC%8B%B1%EB%B3%B5%EC%8A%B5.ipynb\" target=\"_parent\"><img src=\"https://colab.research.google.com/assets/colab-badge.svg\" alt=\"Open In Colab\"/></a>"
      ]
    },
    {
      "cell_type": "code",
      "source": [
        "score=[70,80,90,100,70,60,50,90]\n",
        "n=len(score)\n",
        "hap=0 #초기값은 반복문 밖에 적어야 하구나!\n",
        "for idx in range(n):\n",
        "  hap+=score[idx]\n",
        "  print(f'성적 합은 {hap}이다.')\n",
        "  avg=hap/n\n",
        "print(f'성적의 평균은 {avg}이다.')"
      ],
      "metadata": {
        "colab": {
          "base_uri": "https://localhost:8080/"
        },
        "id": "NG3NAGIK3pn2",
        "outputId": "fe06dbca-ab1b-43c5-a0bc-4f2e95cb21a2"
      },
      "execution_count": null,
      "outputs": [
        {
          "output_type": "stream",
          "name": "stdout",
          "text": [
            "성적 합은 70이다.\n",
            "성적 합은 150이다.\n",
            "성적 합은 240이다.\n",
            "성적 합은 340이다.\n",
            "성적 합은 410이다.\n",
            "성적 합은 470이다.\n",
            "성적 합은 520이다.\n",
            "성적 합은 610이다.\n",
            "성적의 평균은 76.25이다.\n"
          ]
        }
      ]
    },
    {
      "cell_type": "code",
      "source": [
        "sentence=['안녕하세요', '반갑습니다', '오늘은 날씨가 좋네요' ]\n",
        "\n",
        "for idx in range(len(sentence)):\n",
        "  print(f'{idx+1}번 {sentence[idx]}')"
      ],
      "metadata": {
        "colab": {
          "base_uri": "https://localhost:8080/"
        },
        "id": "Zi8UAMus6Fl2",
        "outputId": "543a1a2d-4fcc-415e-b576-0865fa2e1a5c"
      },
      "execution_count": null,
      "outputs": [
        {
          "output_type": "stream",
          "name": "stdout",
          "text": [
            "1번 안녕하세요\n",
            "2번 반갑습니다\n",
            "3번 오늘은 날씨가 좋네요\n"
          ]
        }
      ]
    },
    {
      "cell_type": "code",
      "source": [
        "sentence=['안녕하세요', '반갑습니다', '오늘은 날씨가 좋네요' ]\n",
        "\n",
        "for i,j in enumerate(sentence):\n",
        "  print(f'{i+1}번 {j}')"
      ],
      "metadata": {
        "colab": {
          "base_uri": "https://localhost:8080/"
        },
        "id": "TQuY5Wgl-nOd",
        "outputId": "a3e3ce5b-2eb3-464b-f58c-abe9f1859f49"
      },
      "execution_count": null,
      "outputs": [
        {
          "output_type": "stream",
          "name": "stdout",
          "text": [
            "1번 안녕하세요\n",
            "2번 반갑습니다\n",
            "3번 오늘은 날씨가 좋네요\n"
          ]
        }
      ]
    },
    {
      "cell_type": "code",
      "source": [
        "pip install gtts"
      ],
      "metadata": {
        "colab": {
          "base_uri": "https://localhost:8080/"
        },
        "id": "7Db15H5TAR3g",
        "outputId": "f47b0ce8-16d4-43be-d013-cf282a6be884"
      },
      "execution_count": null,
      "outputs": [
        {
          "output_type": "stream",
          "name": "stdout",
          "text": [
            "Collecting gtts\n",
            "  Downloading gTTS-2.5.1-py3-none-any.whl (29 kB)\n",
            "Requirement already satisfied: requests<3,>=2.27 in /usr/local/lib/python3.10/dist-packages (from gtts) (2.31.0)\n",
            "Requirement already satisfied: click<8.2,>=7.1 in /usr/local/lib/python3.10/dist-packages (from gtts) (8.1.7)\n",
            "Requirement already satisfied: charset-normalizer<4,>=2 in /usr/local/lib/python3.10/dist-packages (from requests<3,>=2.27->gtts) (3.3.2)\n",
            "Requirement already satisfied: idna<4,>=2.5 in /usr/local/lib/python3.10/dist-packages (from requests<3,>=2.27->gtts) (3.7)\n",
            "Requirement already satisfied: urllib3<3,>=1.21.1 in /usr/local/lib/python3.10/dist-packages (from requests<3,>=2.27->gtts) (2.0.7)\n",
            "Requirement already satisfied: certifi>=2017.4.17 in /usr/local/lib/python3.10/dist-packages (from requests<3,>=2.27->gtts) (2024.6.2)\n",
            "Installing collected packages: gtts\n",
            "Successfully installed gtts-2.5.1\n"
          ]
        }
      ]
    },
    {
      "cell_type": "code",
      "source": [
        "from gtts import gTTS\n",
        "\n",
        "sentence=['안녕하세요', '반갑습니다', '오늘은 날씨가 좋네요' ]\n",
        "\n",
        "n=len(sentence)\n",
        "\n",
        "for idx in range(n):\n",
        "  tts=gTTS(text=sentence[idx], lang='ko')\n",
        "  tts.save(f'voice{idx}.mp3')"
      ],
      "metadata": {
        "id": "jqybN4hDBXXz"
      },
      "execution_count": null,
      "outputs": []
    },
    {
      "cell_type": "code",
      "source": [
        "from gtts import gTTS\n",
        "\n",
        "sentence=['안녕하세요', '반갑습니다', '오늘은 날씨가 좋네요' ]\n",
        "\n",
        "for i, j in enumerate(sentence):\n",
        "  tts=gTTS(text=j, lang='ko')\n",
        "  tts.save(f'enumerate_voice{i}.mp3')"
      ],
      "metadata": {
        "id": "WtnE4t0YBnOT"
      },
      "execution_count": null,
      "outputs": []
    },
    {
      "cell_type": "code",
      "source": [
        "students=[['대승',23,'남자'],\n",
        "          ['태형',21,'고양이'],\n",
        "          ['나니',34,'개구리']]\n",
        "print(students)\n",
        "genders = [row[2] for row in students]\n",
        "print(genders)\n",
        "print(students[2][1])\n"
      ],
      "metadata": {
        "colab": {
          "base_uri": "https://localhost:8080/"
        },
        "id": "1A1V0LrvCqoO",
        "outputId": "69dc44f6-33e1-4f9c-a267-0743a352280b"
      },
      "execution_count": null,
      "outputs": [
        {
          "output_type": "stream",
          "name": "stdout",
          "text": [
            "[['대승', 23, '남자'], ['태형', 21, '고양이'], ['나니', 34, '개구리']]\n",
            "['남자', '고양이', '개구리']\n",
            "34\n"
          ]
        }
      ]
    },
    {
      "cell_type": "code",
      "source": [
        "students=[['사과','빨강','3000'],\n",
        "          ['바나나','노랑','2000'],\n",
        "          ['오렌지','주황','1000']]\n",
        "\n",
        "for i in students:\n",
        "  name=i[0]\n",
        "  color=i[1]\n",
        "  price=i[2]\n",
        "  print(f'{name}의 색깔은 {color}, 가격은 {price}원입니다.')"
      ],
      "metadata": {
        "colab": {
          "base_uri": "https://localhost:8080/"
        },
        "id": "dhCqA02uIU77",
        "outputId": "3d757ea4-55dc-4d64-8e76-4bac7ad9e6f1"
      },
      "execution_count": null,
      "outputs": [
        {
          "output_type": "stream",
          "name": "stdout",
          "text": [
            "사과의 색깔은 빨강, 가격은 3000원입니다.\n",
            "바나나의 색깔은 노랑, 가격은 2000원입니다.\n",
            "오렌지의 색깔은 주황, 가격은 1000원입니다.\n"
          ]
        }
      ]
    },
    {
      "cell_type": "code",
      "source": [
        "Q= [['what is the color of apples?:','red'],\n",
        "    ['what is the color of bananas?:','yellow']]\n",
        "\n",
        "\n",
        "score=0\n",
        "for i in Q:\n",
        "  question=i[0]\n",
        "  answer=i[1]\n",
        "  input_answer=input(question).lower()   # 입력값을 모두 소문자로 변환\n",
        "\n",
        "  if input_answer==answer:\n",
        "    score+=1\n",
        "    print('정답입니다.')\n",
        "  else:\n",
        "    print(f'오답입니다. {question}은 {answer}입니다.')\n",
        "print(f'점수는 {score}점입니다.')\n",
        "print(f'당신은 {len(Q)}개의 문제 중에 {score}개를 맞췄습니다.')"
      ],
      "metadata": {
        "colab": {
          "base_uri": "https://localhost:8080/"
        },
        "id": "9YChG5e-Lqw5",
        "outputId": "2d4a7eb8-0c05-4ba7-a364-bf200b05eb2e"
      },
      "execution_count": null,
      "outputs": [
        {
          "output_type": "stream",
          "name": "stdout",
          "text": [
            "what is the color of apples?:Red\n",
            "정답입니다.\n",
            "what is the color of bananas?:YelloW\n",
            "정답입니다.\n",
            "점수는 2점입니다.\n",
            "당신은 2개의 문제 중에 2개를 맞췄습니다.\n"
          ]
        }
      ]
    },
    {
      "cell_type": "code",
      "source": [],
      "metadata": {
        "id": "v1FRPmAgRbz6"
      },
      "execution_count": null,
      "outputs": []
    }
  ]
}