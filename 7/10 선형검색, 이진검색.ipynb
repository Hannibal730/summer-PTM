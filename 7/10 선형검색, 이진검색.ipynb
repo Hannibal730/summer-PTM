{
  "nbformat": 4,
  "nbformat_minor": 0,
  "metadata": {
    "colab": {
      "provenance": [],
      "authorship_tag": "ABX9TyM2iXViCfPunDHnygQ/Q9EJ",
      "include_colab_link": true
    },
    "kernelspec": {
      "name": "python3",
      "display_name": "Python 3"
    },
    "language_info": {
      "name": "python"
    }
  },
  "cells": [
    {
      "cell_type": "markdown",
      "metadata": {
        "id": "view-in-github",
        "colab_type": "text"
      },
      "source": [
        "<a href=\"https://colab.research.google.com/github/Hannibal730/summer-PTM/blob/main/7/10%20%EC%84%A0%ED%98%95%EA%B2%80%EC%83%89%2C%20%EC%9D%B4%EC%A7%84%EA%B2%80%EC%83%89.ipynb\" target=\"_parent\"><img src=\"https://colab.research.google.com/assets/colab-badge.svg\" alt=\"Open In Colab\"/></a>"
      ]
    },
    {
      "cell_type": "markdown",
      "source": [
        "# 자료 탐색 알고리즘\n",
        "##1. 검색: 정해진 답을 찾는 것\n",
        "##2. 탐색: 정해진 답은 아니지만, 좋아보이는 값을 찾는 것\n",
        "\n",
        "1-(1). 선형검색: 처음부터 마지막 데이터까지 차례로'찾고자 하는 데이터'와 계속 비교함. 그리고 찾아야 멈춤. 정렬되지 않은 데이터에서 찾을 때에 적합함.\n",
        "\n",
        "\n",
        "\n",
        "\n",
        "\n"
      ],
      "metadata": {
        "id": "CrLst9h_K54Z"
      }
    },
    {
      "cell_type": "code",
      "execution_count": 4,
      "metadata": {
        "colab": {
          "base_uri": "https://localhost:8080/"
        },
        "id": "iK97DqCiIolP",
        "outputId": "8391d65c-fa59-49cd-a59b-1d8645f3fcc0"
      },
      "outputs": [
        {
          "output_type": "stream",
          "name": "stdout",
          "text": [
            "데이터의 상태는 [12, 10, 27, 51, 7, 96]입니다.\n",
            "찾을 값을 입력하세요 : 10\n",
            "당신이 찾는 10는 data의 2번째에 있습니다.\n"
          ]
        }
      ],
      "source": [
        "# 선형검색을 for 써서\n",
        "\n",
        "data=[12,10,27,51,7,96]\n",
        "\n",
        "print(f'데이터의 상태는 {data}입니다.')\n",
        "\n",
        "find=int(input('찾을 값을 입력하세요 : '))\n",
        "\n",
        "for i in range(len(data)):\n",
        "  if find==data[i]:\n",
        "    print(f'당신이 찾는 {find}는 data의 {i+1}번째에 있습니다.')\n",
        "    break\n",
        "else:\n",
        "  print(f'당신이 찾는 값{find}이 없습니다.')"
      ]
    },
    {
      "cell_type": "code",
      "source": [
        "#선형검색을 while 써서\n",
        "\n",
        "data=[12,10,27,51,7,96]\n",
        "\n",
        "print(f'데이터의 상태는 {data}입니다.')\n",
        "\n",
        "find=int(input('찾을 값을 입력하세요 : '))\n",
        "\n",
        "i=0\n",
        "while i<=len(data):\n",
        "  if find==data[i]:\n",
        "    print(f'당신이 찾는 {find}는 data의 {i+1}번째에 있습니다.')\n",
        "    break\n",
        "  i+=1\n",
        "else:  # while을 끝까지 했는데도 못 찾으면 엘스 시작\n",
        "  print(f'당신이 찾는 값{find}이 없습니다.')"
      ],
      "metadata": {
        "colab": {
          "base_uri": "https://localhost:8080/"
        },
        "id": "hyVyvcWNOluF",
        "outputId": "4c63ebbd-eb7a-4f6a-809b-151871b73567"
      },
      "execution_count": 8,
      "outputs": [
        {
          "output_type": "stream",
          "name": "stdout",
          "text": [
            "데이터의 상태는 [12, 10, 27, 51, 7, 96]입니다.\n",
            "찾을 값을 입력하세요 : 51\n",
            "당신이 찾는 51는 data의 4번째에 있습니다.\n"
          ]
        }
      ]
    },
    {
      "cell_type": "code",
      "source": [
        "# 선형검색을 함수로\n",
        "def seqsearch(data,find):\n",
        "  for i in range(len(data)):\n",
        "    print(f'index[{i}]: {data[i]}')\n",
        "    if find==data[i]:\n",
        "      print(f'당신이 찾는 {find}는 data의 {i+1}번째에 있습니다.')\n",
        "      break\n",
        "  else:\n",
        "    print(f'당신이 찾는 값{find}이 없습니다.')\n",
        "\n",
        "\n",
        "data=[189,150,168,162,106,120,177,50]\n",
        "find=int(input('찾을 값을 입력하세요 : '))\n",
        "\n",
        "seqsearch(data,find)"
      ],
      "metadata": {
        "colab": {
          "base_uri": "https://localhost:8080/"
        },
        "id": "9XDHX27EPxzW",
        "outputId": "032c5477-dbda-4d46-f421-4e6fd65fe9fe"
      },
      "execution_count": 15,
      "outputs": [
        {
          "output_type": "stream",
          "name": "stdout",
          "text": [
            "찾을 값을 입력하세요 : 189\n",
            "index[0]: 189\n",
            "당신이 찾는 189는 data의 1번째에 있습니다.\n"
          ]
        }
      ]
    },
    {
      "cell_type": "code",
      "source": [
        "# 선형검색을 함수로 & 리턴\n",
        "def seqsearch(data,find):\n",
        "  for i in range(len(data)):\n",
        "    if data[i]==find:\n",
        "      return i+1  #참고로 함수는 리턴이 최초로 실행되면, 그 함수는 브레끼 없어도 그냥 종료된다. #따라서 여기서 리턴이 되면 함수가 그냥 끝나고, 여기서 리턴이 안 되면\n",
        "  return -1  #여기서 리턴이 작동하는 거임. 그래서 그 사이에 브레끼나 엘스가 필요없음.\n",
        "\n",
        "\n",
        "data=[189,150,168,162,106,120,177,50]\n",
        "find=int(input('찾을 값을 입력하세요 : '))\n",
        "\n",
        "pos=seqsearch(data,find)\n",
        "if pos==-1:\n",
        "  print(f'당신이 찾는 값{find}이 없습니다.')\n",
        "else: print(f'당신이 찾는 {find}는 data의 {pos}번째에 있습니다.')"
      ],
      "metadata": {
        "colab": {
          "base_uri": "https://localhost:8080/"
        },
        "id": "mY5lWT8DSgHY",
        "outputId": "a3e5928f-6e58-414f-bf38-94bd132d171c"
      },
      "execution_count": 23,
      "outputs": [
        {
          "output_type": "stream",
          "name": "stdout",
          "text": [
            "찾을 값을 입력하세요 : 162\n",
            "당신이 찾는 162는 data의 4번째에 있습니다.\n"
          ]
        }
      ]
    },
    {
      "cell_type": "markdown",
      "source": [
        "1-(2). 이진검색: 정렬된 데이터에서 중앙값을 찾고, 정답과 비교하며 데이터를 절반씩 날리는 검색"
      ],
      "metadata": {
        "id": "KbA5IxjCYpf-"
      }
    },
    {
      "cell_type": "code",
      "source": [
        "data=[12,10,27,31,26,1,3] #정렬 전\n",
        "print(f' 정렬 전 데이터의 상태는 {data}입니다.')\n",
        "\n",
        "data.sort()\n",
        "print(f' 정렬 후 데이터의 상태는 {data}입니다.')\n",
        "\n",
        "low,high=0,len(data)-1\n",
        "find=int(input('찾을 값을 입력하세요 : '))\n",
        "\n",
        "t=0\n",
        "while low<=high:\n",
        "  mid=(low+high)//2  # /: 소수점까지, //: 몫까지만, %:나머지만\n",
        "  t+=1\n",
        "  print(f'{t}번째 중앙값은 index[{mid}]: {data[mid]}')\n",
        "\n",
        "  if find==data[mid]:\n",
        "    print(f'당신이 찾는 {find}는 data의 {mid+1}번째에 있습니다.')\n",
        "    break\n",
        "  elif find>data[mid]:low=mid+1\n",
        "  elif find<data[mid]:high=mid-1\n",
        "\n",
        "else:\n",
        "  print(f'당신이 찾는 값{find}이 없습니다.')"
      ],
      "metadata": {
        "colab": {
          "base_uri": "https://localhost:8080/"
        },
        "id": "53d26qRlUcLW",
        "outputId": "be43485c-3728-41f8-d017-2a2d267ae591"
      },
      "execution_count": 38,
      "outputs": [
        {
          "output_type": "stream",
          "name": "stdout",
          "text": [
            " 정렬 전 데이터의 상태는 [12, 10, 27, 31, 26, 1, 3]입니다.\n",
            " 정렬 후 데이터의 상태는 [1, 3, 10, 12, 26, 27, 31]입니다.\n",
            "찾을 값을 입력하세요 : 31\n",
            "1번째 중앙값은 index[3]: 12\n",
            "2번째 중앙값은 index[5]: 27\n",
            "3번째 중앙값은 index[6]: 31\n",
            "당신이 찾는 31는 data의 7번째에 있습니다.\n"
          ]
        }
      ]
    },
    {
      "cell_type": "code",
      "source": [
        "# 함수 써서 선형검색\n",
        "\n",
        "def seqsearch(data,a_list):\n",
        "  my_flag=False\n",
        "  count=0\n",
        "  for i in range(len(a_list)):\n",
        "    count+=1\n",
        "    if data==a_list[i]:\n",
        "      my_flag=True\n",
        "      print(f'선형검색 결과: 당신이 찾는 {data}가 있고 {my_flag}, {count}번만에 검색 성공')\n",
        "      break\n",
        "  else:\n",
        "    print(f'선형검색 결과: 당신이 찾는 값{data}이 없습니다.')\n",
        "\n",
        "# 함수 써서 이진검색\n",
        "def bsearch(data,a_list):\n",
        "  a_list.sort()\n",
        "  my_flag=False\n",
        "  count=0\n",
        "  low,high=0,len(a_list)-1\n",
        "  while low<=high:\n",
        "    mid=(low+high)//2\n",
        "    count+=1\n",
        "    if data==a_list[mid]:\n",
        "      my_flag=True\n",
        "      print(f'이진검색 결과: 당신이 찾는 {data}가 있고 {my_flag}, {count}번만에 검색 성공')\n",
        "      break\n",
        "    elif data>a_list[mid]:low=mid+1\n",
        "    elif data<a_list[mid]:high=mid-1\n",
        "  else: print(f'이진검색 결과: 당신이 찾는 값{data}이 없습니다.')\n",
        "\n",
        "\n",
        "\n",
        "find=int(input('찾을 값을 입력하세요 : '))\n",
        "a_list=[37,29,69,30,15,55,90,87,73,20]\n",
        "\n",
        "seqsearch(find,a_list)\n",
        "bsearch(find,a_list)"
      ],
      "metadata": {
        "colab": {
          "base_uri": "https://localhost:8080/"
        },
        "id": "df2yq2e-basm",
        "outputId": "288465e1-dc2e-4666-9968-184ab0a97c9c"
      },
      "execution_count": 51,
      "outputs": [
        {
          "output_type": "stream",
          "name": "stdout",
          "text": [
            "찾을 값을 입력하세요 : 55\n",
            "선형검색 결과: 당신이 찾는 55가 있고 True, 6번만에 검색 성공\n",
            "이진검색 결과: 당신이 찾는 55가 있고 True, 3번만에 검색 성공\n"
          ]
        }
      ]
    },
    {
      "cell_type": "code",
      "source": [],
      "metadata": {
        "id": "BOOyyqBfhCAJ"
      },
      "execution_count": null,
      "outputs": []
    }
  ]
}