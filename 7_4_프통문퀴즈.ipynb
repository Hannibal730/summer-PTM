{
  "nbformat": 4,
  "nbformat_minor": 0,
  "metadata": {
    "colab": {
      "provenance": [],
      "authorship_tag": "ABX9TyN1FWgC/SQmLK1J73ijf6Ts",
      "include_colab_link": true
    },
    "kernelspec": {
      "name": "python3",
      "display_name": "Python 3"
    },
    "language_info": {
      "name": "python"
    }
  },
  "cells": [
    {
      "cell_type": "markdown",
      "metadata": {
        "id": "view-in-github",
        "colab_type": "text"
      },
      "source": [
        "<a href=\"https://colab.research.google.com/github/Hannibal730/summer-PTM/blob/main/7_4_%ED%94%84%ED%86%B5%EB%AC%B8%ED%80%B4%EC%A6%88.ipynb\" target=\"_parent\"><img src=\"https://colab.research.google.com/assets/colab-badge.svg\" alt=\"Open In Colab\"/></a>"
      ]
    },
    {
      "cell_type": "code",
      "execution_count": null,
      "metadata": {
        "colab": {
          "base_uri": "https://localhost:8080/"
        },
        "id": "iWJ_rhQmHW5g",
        "outputId": "12089209-ae8e-4d30-bbef-3c1016301ce4"
      },
      "outputs": [
        {
          "output_type": "stream",
          "name": "stdout",
          "text": [
            "계산식을 후위표기법으로 입력하세요. \n",
            "연산자와 피연산자는 \",\"로 분리해서 입력하세요.\n"
          ]
        }
      ],
      "source": [
        "a_stack=[]\n",
        "def push(push_data):\n",
        "  a_stack. append (int(push_data))\n",
        "\n",
        "def pop():\n",
        "  a=0\n",
        "  a=a_stack[-1]\n",
        "  a_stack.remove(a_stack[-1])\n",
        "  return a\n",
        "\n",
        "print(\"계산식을 후위표기법으로 입력하세요. \\n연산자와 피연산자는 \\\",\\\"로 분리해서 입력하세요.\")\n",
        "a=list(input().split(','))\n",
        "for i in a:\n",
        "  if i =='+' or i =='-'or i=='*'or i=='/':\n",
        "    pop_data1=pop()\n",
        "    pop_data2=pop ()\n",
        "    if i == '+':\n",
        "      push (pop_data2+pop_data1)\n",
        "    elif i =='-':\n",
        "      push (pop_data2-pop_data1)\n",
        "    elif i =='*':\n",
        "      push (pop_data2*pop_data1)\n",
        "    elif i =='/':\n",
        "      push (pop_data2/pop_data1)\n",
        "  else:\n",
        "    push(i)"
      ]
    },
    {
      "cell_type": "code",
      "source": [],
      "metadata": {
        "id": "Pz3joH6vIyNn"
      },
      "execution_count": null,
      "outputs": []
    }
  ]
}