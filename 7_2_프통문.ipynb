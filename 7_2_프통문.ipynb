{
  "nbformat": 4,
  "nbformat_minor": 0,
  "metadata": {
    "colab": {
      "provenance": [],
      "authorship_tag": "ABX9TyMqz29xGFrH+XW5koO4hb32",
      "include_colab_link": true
    },
    "kernelspec": {
      "name": "python3",
      "display_name": "Python 3"
    },
    "language_info": {
      "name": "python"
    }
  },
  "cells": [
    {
      "cell_type": "markdown",
      "metadata": {
        "id": "view-in-github",
        "colab_type": "text"
      },
      "source": [
        "<a href=\"https://colab.research.google.com/github/Hannibal730/summer-PTM/blob/main/7_2_%ED%94%84%ED%86%B5%EB%AC%B8.ipynb\" target=\"_parent\"><img src=\"https://colab.research.google.com/assets/colab-badge.svg\" alt=\"Open In Colab\"/></a>"
      ]
    },
    {
      "cell_type": "code",
      "source": [
        "def grade1(score):\n",
        "  if 90<=score<=100:\n",
        "    grade=\"A\"\n",
        "  elif 80<=score<=90:\n",
        "    grade=\"B\"\n",
        "  elif 70<=score<=80:\n",
        "    grade=\"C\"\n",
        "  elif 60<=score<=70:\n",
        "    grade=\"D\"\n",
        "  else:\n",
        "    grade=\"F\"\n",
        "  return grade\n",
        "\n",
        "while True:\n",
        "  select=input(\"종료여부 (종료:x, 계속:다른 키)\")\n",
        "  if select.lower()==\"x\":\n",
        "    break\n",
        "  name=input(\"학생 이릉을 입력하세요\")\n",
        "  score=int(input(\"점수를 입력하세요:\"))\n",
        "  print(grade1(score))\n",
        "  print(f'{name}학생의 성적은 {score}이고 등급은 {grade1(score)}입니다')"
      ],
      "metadata": {
        "colab": {
          "base_uri": "https://localhost:8080/"
        },
        "id": "HqNdOR3_24df",
        "outputId": "6d38ec66-6b32-43ff-d1c6-279cc194ca36"
      },
      "execution_count": null,
      "outputs": [
        {
          "name": "stdout",
          "output_type": "stream",
          "text": [
            "종료여부 (종료:x, 계속:다른 키)\n",
            "학생 이릉을 입력하세요ㅇ\n",
            "점수를 입력하세요:76\n",
            "C\n",
            "ㅇ학생의 성적은 76이고 등급은 C입니다\n",
            "종료여부 (종료:x, 계속:다른 키)x\n"
          ]
        }
      ]
    },
    {
      "cell_type": "code",
      "execution_count": null,
      "metadata": {
        "colab": {
          "base_uri": "https://localhost:8080/"
        },
        "id": "qlfN4V9B2RuW",
        "outputId": "0df3f795-e9c3-44f1-ee9b-164a99c49614"
      },
      "outputs": [
        {
          "output_type": "stream",
          "name": "stdout",
          "text": [
            "합계는 40이고 평균은 20.0입니다\n"
          ]
        }
      ],
      "source": [
        "\n",
        "def add (a,b):\n",
        "  hap= a+b\n",
        "  avg=hap/2\n",
        "  #print(f'{a}+{b}={hap}')\n",
        "  return hap, avg\n",
        "\n",
        "\n",
        "result=add(10,30)\n",
        "\n",
        "print(f'합계는 {result[0]}이고 평균은 {result[1]}입니다')\n"
      ]
    },
    {
      "cell_type": "markdown",
      "source": [
        "#전역변수는 함수 안/밖 모두 사용가능\n",
        "\n",
        "#지역변수는 함수 안에서만 사용가능"
      ],
      "metadata": {
        "id": "QBIoU3aC-F0j"
      }
    },
    {
      "cell_type": "code",
      "source": [
        "a=10 #전역변수\n",
        "\n",
        "def f():\n",
        "  print(a)\n",
        "f()\n",
        "\n",
        "print(a)"
      ],
      "metadata": {
        "colab": {
          "base_uri": "https://localhost:8080/"
        },
        "id": "9uL6BZCJ6SxF",
        "outputId": "4eabb1f3-0c3f-4aff-c008-117b562714c7"
      },
      "execution_count": null,
      "outputs": [
        {
          "output_type": "stream",
          "name": "stdout",
          "text": [
            "10\n",
            "10\n"
          ]
        }
      ]
    },
    {
      "cell_type": "code",
      "source": [
        "def f2():\n",
        "  ap=20 #지역변수\n",
        "  print(ap)\n",
        "f2()\n",
        "\n",
        "print(ap)"
      ],
      "metadata": {
        "colab": {
          "base_uri": "https://localhost:8080/",
          "height": 202
        },
        "id": "GshV9Pb4-5Q5",
        "outputId": "02cfab91-57be-4f4c-eb40-206b39604b1d"
      },
      "execution_count": null,
      "outputs": [
        {
          "output_type": "stream",
          "name": "stdout",
          "text": [
            "20\n"
          ]
        },
        {
          "output_type": "error",
          "ename": "NameError",
          "evalue": "name 'ap' is not defined",
          "traceback": [
            "\u001b[0;31m---------------------------------------------------------------------------\u001b[0m",
            "\u001b[0;31mNameError\u001b[0m                                 Traceback (most recent call last)",
            "\u001b[0;32m<ipython-input-23-0a83ec7fbe85>\u001b[0m in \u001b[0;36m<cell line: 6>\u001b[0;34m()\u001b[0m\n\u001b[1;32m      4\u001b[0m \u001b[0mf2\u001b[0m\u001b[0;34m(\u001b[0m\u001b[0;34m)\u001b[0m\u001b[0;34m\u001b[0m\u001b[0;34m\u001b[0m\u001b[0m\n\u001b[1;32m      5\u001b[0m \u001b[0;34m\u001b[0m\u001b[0m\n\u001b[0;32m----> 6\u001b[0;31m \u001b[0mprint\u001b[0m\u001b[0;34m(\u001b[0m\u001b[0map\u001b[0m\u001b[0;34m)\u001b[0m\u001b[0;34m\u001b[0m\u001b[0;34m\u001b[0m\u001b[0m\n\u001b[0m",
            "\u001b[0;31mNameError\u001b[0m: name 'ap' is not defined"
          ]
        }
      ]
    },
    {
      "cell_type": "code",
      "source": [
        "def f2():\n",
        "  global k\n",
        "  k=20 #지역변수이지만 라인2에서 글로벌로 지정해줬기 때문에, 전역변수로 사용가능.\n",
        "  print(k)\n",
        "f2()\n",
        "\n",
        "print(k)"
      ],
      "metadata": {
        "colab": {
          "base_uri": "https://localhost:8080/"
        },
        "id": "gxJKYe-e_AX_",
        "outputId": "69c009b1-76da-4baa-95cc-f371f984207b"
      },
      "execution_count": null,
      "outputs": [
        {
          "output_type": "stream",
          "name": "stdout",
          "text": [
            "20\n",
            "20\n"
          ]
        }
      ]
    },
    {
      "cell_type": "code",
      "source": [
        "r=input(\"반지름을 입력하세요\")\n",
        "pi=3.14\n",
        "area=pi*float(r)**2\n",
        "print(f'원주는 {area}입니다.')"
      ],
      "metadata": {
        "colab": {
          "base_uri": "https://localhost:8080/"
        },
        "id": "z8Z7K4Up_0VP",
        "outputId": "a6bee815-330a-4f65-dfa6-06320ca889b4"
      },
      "execution_count": null,
      "outputs": [
        {
          "output_type": "stream",
          "name": "stdout",
          "text": [
            "반지름을 입력하세요3\n",
            "원주는 28.26입니다.\n"
          ]
        }
      ]
    },
    {
      "cell_type": "code",
      "source": [
        "import random as rd\n",
        "\n",
        "print(f'이민환의 결혼나이는 {rd.randrange(29,30)}입니다.')\n",
        "\n",
        "coin=['앞면','뒷면']\n",
        "while True:\n",
        "  print(rd.choice(coin))\n",
        "  if input(\"그만?(y/n)\"):\n",
        "    break"
      ],
      "metadata": {
        "colab": {
          "base_uri": "https://localhost:8080/"
        },
        "id": "0RGbEH_KDMCU",
        "outputId": "82c79b3e-f29d-4d53-bd8c-9c70c04a3217"
      },
      "execution_count": null,
      "outputs": [
        {
          "name": "stdout",
          "output_type": "stream",
          "text": [
            "이민환의 결혼나이는 29입니다.\n",
            "앞면\n",
            "그만?(y/n)y\n"
          ]
        }
      ]
    },
    {
      "cell_type": "code",
      "source": [
        "from random import randrange\n",
        "\n",
        "randrange(1,30)"
      ],
      "metadata": {
        "colab": {
          "base_uri": "https://localhost:8080/"
        },
        "id": "9EOeCCB8EC7y",
        "outputId": "c1a322a8-78aa-4f3f-e0b9-a84b3cdc0618"
      },
      "execution_count": null,
      "outputs": [
        {
          "output_type": "execute_result",
          "data": {
            "text/plain": [
              "21"
            ]
          },
          "metadata": {},
          "execution_count": 32
        }
      ]
    },
    {
      "cell_type": "code",
      "source": [
        "import calendar\n",
        "\n",
        "print(calendar.calendar(2024))"
      ],
      "metadata": {
        "colab": {
          "base_uri": "https://localhost:8080/"
        },
        "id": "8U7foUCNESQx",
        "outputId": "7c9eebfa-f3ea-4c4d-a66d-f3fcaeef1ef2"
      },
      "execution_count": null,
      "outputs": [
        {
          "output_type": "stream",
          "name": "stdout",
          "text": [
            "                                  2024\n",
            "\n",
            "      January                   February                   March\n",
            "Mo Tu We Th Fr Sa Su      Mo Tu We Th Fr Sa Su      Mo Tu We Th Fr Sa Su\n",
            " 1  2  3  4  5  6  7                1  2  3  4                   1  2  3\n",
            " 8  9 10 11 12 13 14       5  6  7  8  9 10 11       4  5  6  7  8  9 10\n",
            "15 16 17 18 19 20 21      12 13 14 15 16 17 18      11 12 13 14 15 16 17\n",
            "22 23 24 25 26 27 28      19 20 21 22 23 24 25      18 19 20 21 22 23 24\n",
            "29 30 31                  26 27 28 29               25 26 27 28 29 30 31\n",
            "\n",
            "       April                      May                       June\n",
            "Mo Tu We Th Fr Sa Su      Mo Tu We Th Fr Sa Su      Mo Tu We Th Fr Sa Su\n",
            " 1  2  3  4  5  6  7             1  2  3  4  5                      1  2\n",
            " 8  9 10 11 12 13 14       6  7  8  9 10 11 12       3  4  5  6  7  8  9\n",
            "15 16 17 18 19 20 21      13 14 15 16 17 18 19      10 11 12 13 14 15 16\n",
            "22 23 24 25 26 27 28      20 21 22 23 24 25 26      17 18 19 20 21 22 23\n",
            "29 30                     27 28 29 30 31            24 25 26 27 28 29 30\n",
            "\n",
            "        July                     August                  September\n",
            "Mo Tu We Th Fr Sa Su      Mo Tu We Th Fr Sa Su      Mo Tu We Th Fr Sa Su\n",
            " 1  2  3  4  5  6  7                1  2  3  4                         1\n",
            " 8  9 10 11 12 13 14       5  6  7  8  9 10 11       2  3  4  5  6  7  8\n",
            "15 16 17 18 19 20 21      12 13 14 15 16 17 18       9 10 11 12 13 14 15\n",
            "22 23 24 25 26 27 28      19 20 21 22 23 24 25      16 17 18 19 20 21 22\n",
            "29 30 31                  26 27 28 29 30 31         23 24 25 26 27 28 29\n",
            "                                                    30\n",
            "\n",
            "      October                   November                  December\n",
            "Mo Tu We Th Fr Sa Su      Mo Tu We Th Fr Sa Su      Mo Tu We Th Fr Sa Su\n",
            "    1  2  3  4  5  6                   1  2  3                         1\n",
            " 7  8  9 10 11 12 13       4  5  6  7  8  9 10       2  3  4  5  6  7  8\n",
            "14 15 16 17 18 19 20      11 12 13 14 15 16 17       9 10 11 12 13 14 15\n",
            "21 22 23 24 25 26 27      18 19 20 21 22 23 24      16 17 18 19 20 21 22\n",
            "28 29 30 31               25 26 27 28 29 30         23 24 25 26 27 28 29\n",
            "                                                    30 31\n",
            "\n"
          ]
        }
      ]
    },
    {
      "cell_type": "code",
      "source": [
        "import math\n",
        "math.ceil(12.3)\n",
        "math.sqrt(9)\n",
        "math.pow(2,3)\n",
        "math.floor(12.3)"
      ],
      "metadata": {
        "colab": {
          "base_uri": "https://localhost:8080/"
        },
        "id": "KzVA2DUMF5I7",
        "outputId": "7a420a0d-9711-43cd-dcdb-6825adfbe260"
      },
      "execution_count": null,
      "outputs": [
        {
          "output_type": "execute_result",
          "data": {
            "text/plain": [
              "12"
            ]
          },
          "metadata": {},
          "execution_count": 48
        }
      ]
    },
    {
      "cell_type": "code",
      "source": [
        "def test1():\n",
        "  data=[1,2,3,4,5]\n",
        "\n",
        "\n",
        "  data1=[]\n",
        "  for i in range(len(data)):\n",
        "    v=data[i]\n",
        "    if v%2==0:\n",
        "      data1.append(v)\n",
        "  print(data1)\n",
        "\n",
        "test1()\n"
      ],
      "metadata": {
        "colab": {
          "base_uri": "https://localhost:8080/"
        },
        "id": "s-azjWN3GGQl",
        "outputId": "13fbc1bc-0271-41d8-eb2a-7ca84702ce44"
      },
      "execution_count": null,
      "outputs": [
        {
          "output_type": "stream",
          "name": "stdout",
          "text": [
            "[2, 4]\n"
          ]
        }
      ]
    },
    {
      "cell_type": "code",
      "source": [
        "def test1():\n",
        "  data=[1,2,3,4,5]\n",
        "\n",
        "\n",
        "  data2=[]\n",
        "  for k in data:\n",
        "    if k%2==0:\n",
        "      data2.append(k)\n",
        "  print(data2)\n",
        "\n",
        "test1()\n"
      ],
      "metadata": {
        "colab": {
          "base_uri": "https://localhost:8080/"
        },
        "id": "ISQgPGzNOGrw",
        "outputId": "427be89b-11cc-4829-ff3f-6b3c333de1c2"
      },
      "execution_count": null,
      "outputs": [
        {
          "output_type": "stream",
          "name": "stdout",
          "text": [
            "[2, 4]\n"
          ]
        }
      ]
    },
    {
      "cell_type": "code",
      "source": [
        "def test1():\n",
        "  data=[1,2,3,4,5]\n",
        "  data3=[v for v in data if v%2==0]\n",
        "  print(data3)\n",
        "test1()"
      ],
      "metadata": {
        "colab": {
          "base_uri": "https://localhost:8080/"
        },
        "id": "jA7jGgbYOgoQ",
        "outputId": "d471db4f-ebc6-4e0f-db70-d3525288f06a"
      },
      "execution_count": null,
      "outputs": [
        {
          "output_type": "stream",
          "name": "stdout",
          "text": [
            "[2, 4]\n"
          ]
        }
      ]
    },
    {
      "cell_type": "code",
      "source": [
        "import random\n",
        "\n",
        "def test2():\n",
        "  data=[]\n",
        "  while len(data)<6:\n",
        "    p=random.randint(1,45)\n",
        "    if p not in data:\n",
        "      data.append(p)\n",
        "  print(data)\n",
        "test2()"
      ],
      "metadata": {
        "colab": {
          "base_uri": "https://localhost:8080/"
        },
        "id": "rmK6viWIPoMZ",
        "outputId": "7e172add-4822-4937-a920-5d825921ce67"
      },
      "execution_count": null,
      "outputs": [
        {
          "output_type": "stream",
          "name": "stdout",
          "text": [
            "[29, 36, 34, 26, 22, 16]\n"
          ]
        }
      ]
    },
    {
      "cell_type": "code",
      "source": [],
      "metadata": {
        "id": "JCGfgLXzQgCy"
      },
      "execution_count": null,
      "outputs": []
    }
  ]
}