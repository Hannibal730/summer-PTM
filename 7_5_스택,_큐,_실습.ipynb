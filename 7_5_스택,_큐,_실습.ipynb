{
  "nbformat": 4,
  "nbformat_minor": 0,
  "metadata": {
    "colab": {
      "provenance": [],
      "authorship_tag": "ABX9TyPWCS1cIck4/asWU6ScrH/s",
      "include_colab_link": true
    },
    "kernelspec": {
      "name": "python3",
      "display_name": "Python 3"
    },
    "language_info": {
      "name": "python"
    }
  },
  "cells": [
    {
      "cell_type": "markdown",
      "metadata": {
        "id": "view-in-github",
        "colab_type": "text"
      },
      "source": [
        "<a href=\"https://colab.research.google.com/github/Hannibal730/summer-PTM/blob/main/7_5_%EC%8A%A4%ED%83%9D%2C_%ED%81%90%2C_%EC%8B%A4%EC%8A%B5.ipynb\" target=\"_parent\"><img src=\"https://colab.research.google.com/assets/colab-badge.svg\" alt=\"Open In Colab\"/></a>"
      ]
    },
    {
      "cell_type": "markdown",
      "source": [
        "##선형자료구조, 확장형자료구조: 스택 (후입선출)"
      ],
      "metadata": {
        "id": "dbV7C2eictgm"
      }
    },
    {
      "cell_type": "code",
      "source": [
        "stack=[10,20,30]\n",
        "print(stack)\n",
        "\n",
        "stack.append(40)\n",
        "print(stack) #스택 맨 위에 추가\n",
        "\n",
        "stack.pop() # 맨 위에꺼 팝\n",
        "print(stack)"
      ],
      "metadata": {
        "colab": {
          "base_uri": "https://localhost:8080/"
        },
        "id": "2p1qYlC4c0na",
        "outputId": "900a5e98-7862-4c44-c663-42ff553c9d5e"
      },
      "execution_count": 6,
      "outputs": [
        {
          "output_type": "stream",
          "name": "stdout",
          "text": [
            "[10, 20, 30]\n",
            "[10, 20, 30, 40]\n",
            "[10, 20, 30]\n"
          ]
        }
      ]
    },
    {
      "cell_type": "markdown",
      "source": [
        "##후위표기법으로 우선순위 표시 (스택활용)\n",
        "\n",
        "(23*45)/3\n",
        "\n",
        "->23,45,*,3,/"
      ],
      "metadata": {
        "id": "5rCKXjTegkeR"
      }
    },
    {
      "cell_type": "code",
      "source": [
        "stack=[]\n",
        "\n",
        "\n",
        "\n",
        "a=input(\"계산 식을 후위표시법으로 입력하세요 \\n\\\n",
        "연산자와 피연산자는 컴마로 분리해서 입력하세용\"). split(',') #컴마를 기준으로 스플릿\n",
        "\n",
        "print(a)\n",
        "\n",
        "for i in a:\n",
        "  # 연산자라면,\n",
        "  if i ==\"+\" or i==\"-\" or i==\"*\" or i==\"/\":\n",
        "    pop_data1=int(stack.pop()) # 연산자가 오기 직전에 저장된 데이터\n",
        "    pop_data2=int(stack.pop()) # 그 데이터 직전에 저장된 데이터\n",
        "    # 여기서 인티저 처리 안 해주면 스트링으로 받아지는 거라서 밑에서 3,4,+ 이켔을 때 34가 나오는 불상사가 생김. 그래서 인티저 처리\n",
        "\n",
        "    if i==\"+\":\n",
        "      result=pop_data1+pop_data2\n",
        "    elif i==\"-\":\n",
        "      result=pop_data2-pop_data1\n",
        "    elif i==\"*\":\n",
        "      result=pop_data1*pop_data2\n",
        "    elif i==\"/\":\n",
        "      result=pop_data2/pop_data1\n",
        "    stack.append(result)\n",
        "\n",
        "  # 피연산자라면,\n",
        "  else:\n",
        "     stack.append(int(i)) # 이때도 피연산자는 숫자지만, i는 인풋으로 받은 리스트 안의 데이터라서 스트링임. 따라서 인티저 처리\n",
        "     print(f'데이터 추가과정{stack}')\n",
        "\n",
        "\n",
        "print(f'최종 결과는 {stack}')\n"
      ],
      "metadata": {
        "colab": {
          "base_uri": "https://localhost:8080/"
        },
        "id": "jFcr3jNCc7st",
        "outputId": "3a798fe2-8cdc-48b6-f570-750a180a9c8c"
      },
      "execution_count": 27,
      "outputs": [
        {
          "output_type": "stream",
          "name": "stdout",
          "text": [
            "계산 식을 후위표시법으로 입력하세요 \n",
            "연산자와 피연산자는 컴마로 분리해서 입력하세용 23,45,*,3,/\n",
            "[' 23', '45', '*', '3', '/']\n",
            "데이터 추가과정[23]\n",
            "데이터 추가과정[23, 45]\n",
            "데이터 추가과정[1035, 3]\n",
            "최종 결과는 [345.0]입니다.\n"
          ]
        }
      ]
    },
    {
      "cell_type": "markdown",
      "source": [
        "## 함수를 활용해서 수정하기\n",
        "###후위표기법으로 우선순위 표시 (스택활용)\n",
        "\n",
        "(23*45)/3\n",
        "\n",
        "->23,45,*,3,/"
      ],
      "metadata": {
        "id": "M02j_53-ovkd"
      }
    },
    {
      "cell_type": "code",
      "source": [
        "def push(result):\n",
        "  stack.append(result)\n",
        "  print(f'데이터 추가과정{stack}')\n",
        "\n",
        "\n",
        "\n",
        "def pop():\n",
        "  b=stack.pop()\n",
        "  print(f'계산을 위해서 스택에서 빼와야 하는 값은 {b}')\n",
        "  return b\n",
        "\n",
        "\n",
        "stack=[]\n",
        "\n",
        "\n",
        "\n",
        "a=input(\"계산 식을 후위표시법으로 입력하세요 \\n\\\n",
        "연산자와 피연산자는 컴마로 분리해서 입력하세용\"). split(',') #컴마를 기준으로 스플릿\n",
        "\n",
        "print(a)\n",
        "\n",
        "for i in a:\n",
        "  # 연산자라면,\n",
        "  if i ==\"+\" or i==\"-\" or i==\"*\" or i==\"/\":\n",
        "    pop_data1=int(pop()) # 연산자가 오기 직전에 저장된 데이터\n",
        "    pop_data2=int(pop()) # 그 데이터 직전에 저장된 데이터\n",
        "    # 여기서 인티저 처리 안 해주면 스트링으로 받아지는 거라서 밑에서 3,4,+ 이켔을 때 34가 나오는 불상사가 생김. 그래서 인티저 처리\n",
        "\n",
        "    if i==\"+\":\n",
        "      result=pop_data1+pop_data2\n",
        "    elif i==\"-\":\n",
        "      result=pop_data2-pop_data1\n",
        "    elif i==\"*\":\n",
        "      result=pop_data1*pop_data2\n",
        "    elif i==\"/\":\n",
        "      result=pop_data2/pop_data1\n",
        "\n",
        "    push(result)\n",
        "\n",
        "  # 피연산자라면,\n",
        "  else:\n",
        "     push(int(i)) # 이때도 피연산자는 숫자지만, i는 인풋으로 받은 리스트 안의 데이터라서 스트링임. 따라서 인티저 처리\n",
        "\n",
        "\n",
        "print(f'최종 결과는 {stack}입니다.')\n"
      ],
      "metadata": {
        "colab": {
          "base_uri": "https://localhost:8080/"
        },
        "id": "WPKj_Fhmga27",
        "outputId": "d8cb9453-c50c-450e-9af9-9f436c7ab5e4"
      },
      "execution_count": 32,
      "outputs": [
        {
          "output_type": "stream",
          "name": "stdout",
          "text": [
            "계산 식을 후위표시법으로 입력하세요 \n",
            "연산자와 피연산자는 컴마로 분리해서 입력하세용23,45,*,3,/\n",
            "['23', '45', '*', '3', '/']\n",
            "데이터 추가과정[23]\n",
            "데이터 추가과정[23, 45]\n",
            "계산을 위해서 스택에서 빼와야 하는 값은 45\n",
            "계산을 위해서 스택에서 빼와야 하는 값은 23\n",
            "데이터 추가과정[1035]\n",
            "데이터 추가과정[1035, 3]\n",
            "계산을 위해서 스택에서 빼와야 하는 값은 3\n",
            "계산을 위해서 스택에서 빼와야 하는 값은 1035\n",
            "데이터 추가과정[345.0]\n",
            "최종 결과는 [345.0]입니다.\n"
          ]
        }
      ]
    },
    {
      "cell_type": "markdown",
      "source": [
        "##선형자료구조, 확장형자료구조: 큐 (선입선출)\n",
        "\n",
        "데이터가 없다면 기본 위치는 -1,\n",
        "\n",
        "데이터가 들어오면 첫번째 위치인 0"
      ],
      "metadata": {
        "id": "af4UpB2VtOAU"
      }
    },
    {
      "cell_type": "code",
      "source": [
        "que=['선재','태성','민환','태형']\n",
        "#       0     1       2     3\n",
        "#      -4    -3      -2    -1\n",
        "print(f'현재 큐는 {que}')\n",
        "\n",
        "\n",
        "que.append('현주')\n",
        "print(f'데이터가 추가된 이후의 큐는 {que}')\n",
        "\n",
        "# 지우려면\n",
        "que.pop(0)\n",
        "print(f'데이터가 지워진 이후의 큐는 {que}')\n",
        "\n",
        "\n",
        "que.pop(0)\n",
        "print(f'데이터가 지워진 이후의 큐는 {que}')\n"
      ],
      "metadata": {
        "colab": {
          "base_uri": "https://localhost:8080/"
        },
        "id": "qp6nQZX1v-c8",
        "outputId": "eb29d74c-b395-444b-cd13-09a6a3d4ff6a"
      },
      "execution_count": 41,
      "outputs": [
        {
          "output_type": "stream",
          "name": "stdout",
          "text": [
            "현재 큐는 ['선재', '태성', '민환', '태형']\n",
            "데이터가 추가된 이후의 큐는 ['선재', '태성', '민환', '태형', '현주']\n",
            "데이터가 지워진 이후의 큐는 ['태성', '민환', '태형', '현주']\n",
            "데이터가 지워진 이후의 큐는 ['민환', '태형', '현주']\n"
          ]
        }
      ]
    },
    {
      "cell_type": "markdown",
      "source": [
        "## 큐를 사용해서 은행 대기표 시스템 만들기 실습"
      ],
      "metadata": {
        "id": "Zg_MoGXHyPXb"
      }
    },
    {
      "cell_type": "code",
      "source": [
        "que=[]\n",
        "startno=0 #대기시작번호\n",
        "\n",
        "\n",
        "while True:\n",
        "  select=int(input('1.대기표 뽑기\\n2.업무처리\\n3.종료'))\n",
        "  if select==1:\n",
        "    startno+=1\n",
        "    que.append(startno)\n",
        "    print(que)\n",
        "    print(f'대기번호는 {startno}')\n",
        "    print('-'*25)\n",
        "\n",
        "\n",
        "  elif select==2:\n",
        "\n",
        "    current=que.pop(0)\n",
        "    print(f'현재 처리중인 대기번호는 {current}')\n",
        "    # 선입선출 시작 버튼\n",
        "    if len(que)==0:\n",
        "      print('대기열이 비어있습니다.')\n",
        "\n",
        "  elif select==3:\n",
        "    break\n",
        "  else:\n",
        "    print('잘못된 번호입니다.')"
      ],
      "metadata": {
        "colab": {
          "base_uri": "https://localhost:8080/"
        },
        "id": "E5gchwYEw4fw",
        "outputId": "b3fc2588-34ce-4f37-f4b7-94246e43cca9"
      },
      "execution_count": null,
      "outputs": [
        {
          "output_type": "stream",
          "name": "stdout",
          "text": [
            "1.대기표 뽑기\n",
            "2.업무처리\n",
            "3.종료1\n",
            "[1]\n",
            "대기번호는 1\n",
            "-------------------------\n",
            "1.대기표 뽑기\n",
            "2.업무처리\n",
            "3.종료1\n",
            "[1, 2]\n",
            "대기번호는 2\n",
            "-------------------------\n",
            "1.대기표 뽑기\n",
            "2.업무처리\n",
            "3.종료1\n",
            "[1, 2, 3]\n",
            "대기번호는 3\n",
            "-------------------------\n",
            "1.대기표 뽑기\n",
            "2.업무처리\n",
            "3.종료2\n",
            "현재 처리중인 대기번호는 1\n",
            "1.대기표 뽑기\n",
            "2.업무처리\n",
            "3.종료2\n",
            "현재 처리중인 대기번호는 2\n",
            "1.대기표 뽑기\n",
            "2.업무처리\n",
            "3.종료2\n",
            "현재 처리중인 대기번호는 3\n",
            "대기열이 비어있습니다.\n",
            "1.대기표 뽑기\n",
            "2.업무처리\n",
            "3.종료1\n",
            "[4]\n",
            "대기번호는 4\n",
            "-------------------------\n"
          ]
        }
      ]
    }
  ]
}