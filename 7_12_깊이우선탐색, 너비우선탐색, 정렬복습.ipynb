{
  "nbformat": 4,
  "nbformat_minor": 0,
  "metadata": {
    "colab": {
      "provenance": [],
      "authorship_tag": "ABX9TyORleNcQUlE8DF0ovjQ9DVv",
      "include_colab_link": true
    },
    "kernelspec": {
      "name": "python3",
      "display_name": "Python 3"
    },
    "language_info": {
      "name": "python"
    }
  },
  "cells": [
    {
      "cell_type": "markdown",
      "metadata": {
        "id": "view-in-github",
        "colab_type": "text"
      },
      "source": [
        "<a href=\"https://colab.research.google.com/github/Hannibal730/summer-PTM/blob/main/7_12_%EA%B9%8A%EC%9D%B4%EC%9A%B0%EC%84%A0%ED%83%90%EC%83%89%2C%20%EB%84%88%EB%B9%84%EC%9A%B0%EC%84%A0%ED%83%90%EC%83%89%2C%20%EC%A0%95%EB%A0%AC%EB%B3%B5%EC%8A%B5.ipynb\" target=\"_parent\"><img src=\"https://colab.research.google.com/assets/colab-badge.svg\" alt=\"Open In Colab\"/></a>"
      ]
    },
    {
      "cell_type": "markdown",
      "source": [
        "# 그래프 탐색(순회)\n",
        "\n",
        "(1) 깊이우선탐색: 깊이를 기준으로 탐색.\n",
        "\n",
        "Depth First Search; DFS\n",
        "\n",
        "방문한 곳이 최하위 레벨까지 갔을 때 더 이상 방문할 곳이 없다면, 다른 노드를 방문하기 위해 이전 노드로 되돌아가기(백트래킹)\n",
        "\n",
        "또한, 깊이우선탐색 표현 시 주로 스택을 이용해 표현\n",
        "\n",
        "미로에서 특정 길로 끝까지 가고나면, 그 직전 갈림길로 돌아와서 끝까지 가고..를 반복"
      ],
      "metadata": {
        "id": "TJDOCgPneV0R"
      }
    },
    {
      "cell_type": "code",
      "execution_count": 9,
      "metadata": {
        "colab": {
          "base_uri": "https://localhost:8080/"
        },
        "id": "6G4Wqd5aeClA",
        "outputId": "88971c56-dd56-40d5-efa6-96a6af2dd06e"
      },
      "outputs": [
        {
          "output_type": "stream",
          "name": "stdout",
          "text": [
            "처음 방문한 노드기록: []\n",
            "현재 방문한 적 없는 노드는B\n",
            "현재 방문한 적 없는 노드는D\n",
            "현재 방문한 노드는B\n",
            "방문 노드 경로:['A', 'B', 'D']\n",
            "\n",
            "현재 방문한 적 없는 노드는E\n",
            "현재 방문한 노드는B\n",
            "방문 노드 경로:['A', 'B', 'D', 'E']\n",
            "\n",
            "현재 방문한 적 없는 노드는C\n",
            "현재 방문한 적 없는 노드는F\n",
            "현재 방문한 노드는C\n",
            "방문 노드 경로:['A', 'B', 'D', 'E', 'C', 'F']\n",
            "\n",
            "현재 방문한 적 없는 노드는G\n",
            "현재 방문한 노드는C\n",
            "방문 노드 경로:['A', 'B', 'D', 'E', 'C', 'F', 'G']\n",
            "\n"
          ]
        }
      ],
      "source": [
        "# DFS\n",
        "\n",
        "# 그래프를 딕셔너리로 표현\n",
        "#        A\n",
        "#    B       C\n",
        "#  D   E   F   G\n",
        "\n",
        "\n",
        "def dfs(data,start):\n",
        "  visited.append(start)\n",
        "  for i in data[start]:\n",
        "    if i in visited:\n",
        "      print(f'현재 방문한 노드는{i}')\n",
        "      print(f'방문 노드 경로:{visited}')\n",
        "      print()\n",
        "      continue\n",
        "    elif i not in visited:\n",
        "      print(f'현재 방문한 적 없는 노드는{i}')\n",
        "      dfs(data,i) # 재귀호출( 함수 안에서 함수 호출)\n",
        "\n",
        "data={\n",
        "    'A':['B','C'],\n",
        "    'B':['D','E'],\n",
        "    'C':['F','G'],\n",
        "    'D':['B'],\n",
        "    'E':['B'],\n",
        "    'F':['C'],\n",
        "    'G':['C']}\n",
        "visited=[] #초기 빈 리스트, 방문노드의 기록을 저장하는 공간\n",
        "print(f'처음 방문한 노드기록: {visited}')\n",
        "dfs(data,'A')"
      ]
    },
    {
      "cell_type": "markdown",
      "source": [
        "(2) 너비우선탐색: 너비를 기준으로 탐색.\n",
        "\n",
        "Breadth First Search; BFS\n",
        "\n",
        "트리의 레벨에 있는 모든 노드를 탐색하고 더 이상 탐색할 노드가 없다면 다음 레벨로 내려가서 탐색.\n",
        "\n",
        "따라서 백트래킹이 없으며 필요도 없다. 너비우선탐색은 표현시 주로 큐를 이용해 표현"
      ],
      "metadata": {
        "id": "JzAkQAWyertj"
      }
    },
    {
      "cell_type": "code",
      "source": [
        "# BFS\n",
        "\n",
        "import queue\n",
        "que=[]  # 값을 저장할 큐 공간\n",
        "def bfs(data,start):\n",
        "  que.append(start)\n",
        "\n",
        "  while que:\n",
        "    i=que.pop(0)\n",
        "    if i in visited:\n",
        "        continue\n",
        "    elif i not in visited:  # 그럼 방문해야겠네\n",
        "      print(f'현재 방문한 노드는{i}')  #방문완료\n",
        "      visited.append(i)\n",
        "      print(f'방문 노드 경로:{visited}')\n",
        "      print()\n",
        "      que.extend(data[i])\n",
        "      # append는 한 요소를 리스트에 추가하는 것이고,\n",
        "      # extend는 다른 리스트의 모든 요소를 리스트에 추가하는 것이다.\n",
        "      # que.extend(data[i])는 팝된 i의 자식노드들을 리스트에 추가한다는 의미\n",
        "\n",
        "data={\n",
        "    'A':['B','C'],\n",
        "    'B':['D','E'],\n",
        "    'C':['F','G'],\n",
        "    'D':['B'],\n",
        "    'E':['B'],\n",
        "    'F':['C'],\n",
        "    'G':['C']\n",
        "    }\n",
        "visited=[] #초기 빈 리스트, 방문노드의 기록을 저장하는 공간\n",
        "print(f'처음 방문한 노드기록: {visited}')\n",
        "bfs(data,'A')"
      ],
      "metadata": {
        "id": "uOMn6xiIfmhK",
        "colab": {
          "base_uri": "https://localhost:8080/"
        },
        "outputId": "8bebe763-85ba-44f1-a5f2-1356d8efac18"
      },
      "execution_count": 20,
      "outputs": [
        {
          "output_type": "stream",
          "name": "stdout",
          "text": [
            "처음 방문한 노드기록: []\n",
            "현재 방문한 노드는A\n",
            "방문 노드 경로:['A']\n",
            "\n",
            "현재 방문한 노드는B\n",
            "방문 노드 경로:['A', 'B']\n",
            "\n",
            "현재 방문한 노드는C\n",
            "방문 노드 경로:['A', 'B', 'C']\n",
            "\n",
            "현재 방문한 노드는D\n",
            "방문 노드 경로:['A', 'B', 'C', 'D']\n",
            "\n",
            "현재 방문한 노드는E\n",
            "방문 노드 경로:['A', 'B', 'C', 'D', 'E']\n",
            "\n",
            "현재 방문한 노드는F\n",
            "방문 노드 경로:['A', 'B', 'C', 'D', 'E', 'F']\n",
            "\n",
            "현재 방문한 노드는G\n",
            "방문 노드 경로:['A', 'B', 'C', 'D', 'E', 'F', 'G']\n",
            "\n"
          ]
        }
      ]
    },
    {
      "cell_type": "markdown",
      "source": [
        "# 총정리\n",
        "\n",
        "(1) DFS로 A->B->D->E 이후에 C를 만나면 스탑하고, 지금까지 방문한 노드인 A,B,D,E를 출력"
      ],
      "metadata": {
        "id": "CPBQHZffn08D"
      }
    },
    {
      "cell_type": "code",
      "source": [
        "def dfs(data,start):\n",
        "  visited.append(start)\n",
        "  print(f'방문한 노드는 {visited}')\n",
        "\n",
        "  for i in data[start]:\n",
        "    if i=='C': break\n",
        "    elif i not in visited:\n",
        "      dfs(data,i)\n",
        "\n",
        "data={\n",
        "    'A':['B','C'],\n",
        "    'B':['D','E'],\n",
        "    'C':['F','G'],\n",
        "    'D':['B'],\n",
        "    'E':['B'],\n",
        "    'F':['C'],\n",
        "    'G':['C']}\n",
        "visited=[] #초기 빈 리스트, 방문노드의 기록을 저장하는 공간\n",
        "print(f'처음 방문한 노드기록: {visited}')\n",
        "dfs(data,'A')"
      ],
      "metadata": {
        "colab": {
          "base_uri": "https://localhost:8080/"
        },
        "id": "XmevfqOql8_f",
        "outputId": "8b392873-4428-437a-f338-ef0f12aaa704"
      },
      "execution_count": 23,
      "outputs": [
        {
          "output_type": "stream",
          "name": "stdout",
          "text": [
            "처음 방문한 노드기록: []\n",
            "방문한 노드는 ['A']\n",
            "방문한 노드는 ['A', 'B']\n",
            "방문한 노드는 ['A', 'B', 'D']\n",
            "방문한 노드는 ['A', 'B', 'D', 'E']\n"
          ]
        }
      ]
    },
    {
      "cell_type": "markdown",
      "source": [
        "(2) 60~100 사이에서 숫자를 랜덤으로 20개 생성하고, 생성된 데이터를 data.list[]에 저장한 후 선형검색과 이진검색을 선택하여 원하는 데이터를 검색"
      ],
      "metadata": {
        "id": "7zcS0B0LpfUm"
      }
    },
    {
      "cell_type": "code",
      "source": [
        "from re import search\n",
        "from logging import setLogRecordFactory\n",
        "import random as rd\n",
        "\n",
        "\n",
        "def seqsearch(data,search):\n",
        "  i=0\n",
        "  while i<len(data):\n",
        "    if search==data[i]:\n",
        "      print('성공!')\n",
        "      break\n",
        "    i+=1\n",
        "  else:\n",
        "    print('실패!')\n",
        "\n",
        "\n",
        "def bsearch(data,search):\n",
        "  data.sort()\n",
        "  low, high=0,len(data)-1\n",
        "\n",
        "  while low<=high:\n",
        "    mid=(low+high)//2\n",
        "    if search==data[mid]:\n",
        "      print('성공!')\n",
        "      break\n",
        "    elif search<data[mid]:\n",
        "      high=mid-1\n",
        "    elif search>data[mid]:\n",
        "      low=mid+1\n",
        "    else:\n",
        "      print('실패!')\n",
        "\n",
        "\n",
        "data=[]\n",
        "for i in rd.sample(range(60,101),30):\n",
        "  data.append(i)\n",
        "#print(data)\n",
        "\n",
        "while True:\n",
        "  print('1. 선형검색, 2. 이진검색, 0. 종료')\n",
        "  select=int(input('원하는 방법은?:'))\n",
        "\n",
        "  if select==0:\n",
        "    break\n",
        "\n",
        "  else:\n",
        "    search=int(input('검색할 숫자는?: ')) # select가 1,2일 때 각각 써줄 수도 있지마느\n",
        "    if select==1:\n",
        "      seqsearch(data,search)\n",
        "    elif select==2:\n",
        "      bsearch(data,search)\n",
        "\n",
        "\n",
        "\n",
        "\n"
      ],
      "metadata": {
        "colab": {
          "base_uri": "https://localhost:8080/"
        },
        "id": "hTYHWsbGpcn1",
        "outputId": "fe4736ea-d92b-411c-fb38-97dd26cd217e"
      },
      "execution_count": 49,
      "outputs": [
        {
          "name": "stdout",
          "output_type": "stream",
          "text": [
            "1. 선형검색, 2. 이진검색, 0. 종료\n",
            "원하는 방법은?:1\n",
            "검색할 숫자는?: 43\n",
            "실패!\n",
            "1. 선형검색, 2. 이진검색, 0. 종료\n",
            "원하는 방법은?:1\n",
            "검색할 숫자는?: 32\n",
            "실패!\n",
            "1. 선형검색, 2. 이진검색, 0. 종료\n",
            "원하는 방법은?:2\n",
            "검색할 숫자는?: 43\n",
            "1. 선형검색, 2. 이진검색, 0. 종료\n",
            "원하는 방법은?:2\n",
            "검색할 숫자는?: 76\n",
            "성공!\n",
            "1. 선형검색, 2. 이진검색, 0. 종료\n",
            "원하는 방법은?:0\n"
          ]
        }
      ]
    },
    {
      "cell_type": "markdown",
      "source": [
        "(3) 정렬: 선택정렬, 버블정렬, 삽입정렬"
      ],
      "metadata": {
        "id": "N8reM5icpj3Z"
      }
    },
    {
      "cell_type": "code",
      "source": [
        "def selectionsort(data):\n",
        "  i=0\n",
        "  while i < len(data)-1: #최소값 찾기\n",
        "    min=i\n",
        "    for j in range(i+1,len(data)):\n",
        "      if data[min]>data[j]:\n",
        "        min=j\n",
        "    # 새로운 최소값인 j와 기존 최소값을 교환\n",
        "    data[i],data[min]=data[min],data[i]\n",
        "    i+=1\n",
        "    print(f'단계 별 결과: {data}')\n",
        "\n",
        "def bubblesort(data):\n",
        "  n=len(data)\n",
        "  while n>1:\n",
        "    for i in range(n-1):\n",
        "      if data[i]>data[i+1]:\n",
        "        data[i],data[i+1]=data[i+1],data[i]\n",
        "        print(f'단계 별 결과: {data}')\n",
        "    n-=1\n",
        "\n",
        "def insertionsort(data):\n",
        "  i=1\n",
        "  while i<len(data):\n",
        "    for j in range(i,0,-1):\n",
        "      if data[j] < data[j-1]:\n",
        "        data[j],data[j-1]=data[j-1],data[j]\n",
        "        print(f'단계 별 결과: {data}')\n",
        "    i+=1\n",
        "\n",
        "\n",
        "while True:\n",
        "  print('1. 선택정렬, 2. 버블정렬, 3. 삽입정렬, 0. 종료')\n",
        "  select=int(input('원하는 정렬은?: '))\n",
        "  if select==0:\n",
        "    break\n",
        "  else:\n",
        "    data=[int(i)for i in input('정렬할 수 입력(공백으로 구분)').split()]\n",
        "    print(data)\n",
        "    if select==1:\n",
        "      selectionsort(data)\n",
        "      print(f'최종 정렬 후 결과:{data}')\n",
        "      print()\n",
        "    elif select==2:\n",
        "      bubblesort(data)\n",
        "      print(f'최종 정렬 후 결과:{data}')\n",
        "      print()\n",
        "    elif select==3:\n",
        "      insertionsort(data)\n",
        "      print(f'최종 정렬 후 결과:{data}')\n",
        "      print()\n",
        "    else:\n",
        "      print('잘못된 입력입니다.')"
      ],
      "metadata": {
        "colab": {
          "base_uri": "https://localhost:8080/"
        },
        "id": "YCtyiRYlvXL-",
        "outputId": "8fb2769b-3e36-4660-c4af-437309834299"
      },
      "execution_count": 44,
      "outputs": [
        {
          "name": "stdout",
          "output_type": "stream",
          "text": [
            "1. 선택정렬, 2. 버블정렬, 3. 삽입정렬, 0. 종료\n",
            "원하는 정렬은?: 2\n",
            "정렬할 수 입력(공백으로 구분)25 3 12 83\n",
            "[25, 3, 12, 83]\n",
            "단계 별 결과: [3, 25, 12, 83]\n",
            "단계 별 결과: [3, 12, 25, 83]\n",
            "최종 정렬 후 결과:[3, 12, 25, 83]\n",
            "\n",
            "1. 선택정렬, 2. 버블정렬, 3. 삽입정렬, 0. 종료\n",
            "원하는 정렬은?: 3\n",
            "정렬할 수 입력(공백으로 구분)325 54 12 5 3 675\n",
            "[325, 54, 12, 5, 3, 675]\n",
            "단계 별 결과: [54, 325, 12, 5, 3, 675]\n",
            "단계 별 결과: [54, 12, 325, 5, 3, 675]\n",
            "단계 별 결과: [12, 54, 325, 5, 3, 675]\n",
            "단계 별 결과: [12, 54, 5, 325, 3, 675]\n",
            "단계 별 결과: [12, 5, 54, 325, 3, 675]\n",
            "단계 별 결과: [5, 12, 54, 325, 3, 675]\n",
            "단계 별 결과: [5, 12, 54, 3, 325, 675]\n",
            "단계 별 결과: [5, 12, 3, 54, 325, 675]\n",
            "단계 별 결과: [5, 3, 12, 54, 325, 675]\n",
            "단계 별 결과: [3, 5, 12, 54, 325, 675]\n",
            "최종 정렬 후 결과:[3, 5, 12, 54, 325, 675]\n",
            "\n",
            "1. 선택정렬, 2. 버블정렬, 3. 삽입정렬, 0. 종료\n",
            "원하는 정렬은?: 0\n"
          ]
        }
      ]
    }
  ]
}