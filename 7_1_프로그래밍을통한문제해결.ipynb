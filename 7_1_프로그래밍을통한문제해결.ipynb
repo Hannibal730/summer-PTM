{
  "nbformat": 4,
  "nbformat_minor": 0,
  "metadata": {
    "colab": {
      "provenance": [],
      "authorship_tag": "ABX9TyM4F82S/ZJl1rFpAy9iA6wB",
      "include_colab_link": true
    },
    "kernelspec": {
      "name": "python3",
      "display_name": "Python 3"
    },
    "language_info": {
      "name": "python"
    }
  },
  "cells": [
    {
      "cell_type": "markdown",
      "metadata": {
        "id": "view-in-github",
        "colab_type": "text"
      },
      "source": [
        "<a href=\"https://colab.research.google.com/github/Hannibal730/summer-PTM/blob/main/7_1_%ED%94%84%EB%A1%9C%EA%B7%B8%EB%9E%98%EB%B0%8D%EC%9D%84%ED%86%B5%ED%95%9C%EB%AC%B8%EC%A0%9C%ED%95%B4%EA%B2%B0.ipynb\" target=\"_parent\"><img src=\"https://colab.research.google.com/assets/colab-badge.svg\" alt=\"Open In Colab\"/></a>"
      ]
    },
    {
      "cell_type": "code",
      "execution_count": null,
      "metadata": {
        "colab": {
          "base_uri": "https://localhost:8080/"
        },
        "id": "ydtxa7LnskcZ",
        "outputId": "9f071057-764f-4ed0-dc7a-d5886cba15d9"
      },
      "outputs": [
        {
          "output_type": "stream",
          "name": "stdout",
          "text": [
            "문자입력(종료x):>>밥\n",
            "밥\n",
            "문자입력(종료x):>>콜라\n",
            "콜라\n",
            "문자입력(종료x):>>끝\n",
            "끝\n"
          ]
        }
      ],
      "source": [
        "while True:\n",
        "  p=input(\"문자입력(종료x):>>\")\n",
        "  print(p)\n",
        "  if p==\"끝\":\n",
        "    break\n"
      ]
    },
    {
      "cell_type": "code",
      "source": [
        "m={\n",
        "    \"떡볶이\":\"오뎅\",\n",
        "    \"짜장면\":\"단무지\",\n",
        "    \"짬뽕\":\"차돌박이\",\n",
        "    \"탕수육\":\"파인애플\",\n",
        "    \"양장피\":\"딸기\"\n",
        "}\n",
        "\n",
        "while True:\n",
        "\n",
        "  q=input(f'{m.keys()}중에서 좋아하는 음식은? (종료하려며 끝)')\n",
        "  if q==\"끝\":\n",
        "    print(\"끝\")\n",
        "    break\n",
        "  elif q not in m:\n",
        "    print(\"그런 메뉴 없습니다.\")\n",
        "  elif q in m:\n",
        "    print(m[q])\n",
        "\n"
      ],
      "metadata": {
        "colab": {
          "base_uri": "https://localhost:8080/"
        },
        "id": "3KZlifDTtFb9",
        "outputId": "dfe5dfce-81f0-44cb-bb07-3610cc807e88"
      },
      "execution_count": null,
      "outputs": [
        {
          "output_type": "stream",
          "name": "stdout",
          "text": [
            "dict_keys(['떡볶이', '짜장면', '짬뽕', '탕수육', '양장피'])중에서 좋아하는 음식은? (종료하려며 끝)끝\n",
            "끝\n"
          ]
        }
      ]
    },
    {
      "cell_type": "code",
      "source": [
        "num=2\n",
        "while num<10:\n",
        "  print(f'{num}단을 출력 고고')\n",
        "  i=1\n",
        "  for i in range(1,10):\n",
        "    print(f'{num} * {i} = {num*i}')\n",
        "    i+=1\n",
        "  print()\n",
        "  num+=1"
      ],
      "metadata": {
        "colab": {
          "base_uri": "https://localhost:8080/"
        },
        "id": "tvJznLTbu7GH",
        "outputId": "6c3b30ca-c5ee-4841-b888-87d119fa7665"
      },
      "execution_count": null,
      "outputs": [
        {
          "output_type": "stream",
          "name": "stdout",
          "text": [
            "2단을 출력 고고\n",
            "2 * 1 = 2\n",
            "2 * 2 = 4\n",
            "2 * 3 = 6\n",
            "2 * 4 = 8\n",
            "2 * 5 = 10\n",
            "2 * 6 = 12\n",
            "2 * 7 = 14\n",
            "2 * 8 = 16\n",
            "2 * 9 = 18\n",
            "\n",
            "3단을 출력 고고\n",
            "3 * 1 = 3\n",
            "3 * 2 = 6\n",
            "3 * 3 = 9\n",
            "3 * 4 = 12\n",
            "3 * 5 = 15\n",
            "3 * 6 = 18\n",
            "3 * 7 = 21\n",
            "3 * 8 = 24\n",
            "3 * 9 = 27\n",
            "\n",
            "4단을 출력 고고\n",
            "4 * 1 = 4\n",
            "4 * 2 = 8\n",
            "4 * 3 = 12\n",
            "4 * 4 = 16\n",
            "4 * 5 = 20\n",
            "4 * 6 = 24\n",
            "4 * 7 = 28\n",
            "4 * 8 = 32\n",
            "4 * 9 = 36\n",
            "\n",
            "5단을 출력 고고\n",
            "5 * 1 = 5\n",
            "5 * 2 = 10\n",
            "5 * 3 = 15\n",
            "5 * 4 = 20\n",
            "5 * 5 = 25\n",
            "5 * 6 = 30\n",
            "5 * 7 = 35\n",
            "5 * 8 = 40\n",
            "5 * 9 = 45\n",
            "\n",
            "6단을 출력 고고\n",
            "6 * 1 = 6\n",
            "6 * 2 = 12\n",
            "6 * 3 = 18\n",
            "6 * 4 = 24\n",
            "6 * 5 = 30\n",
            "6 * 6 = 36\n",
            "6 * 7 = 42\n",
            "6 * 8 = 48\n",
            "6 * 9 = 54\n",
            "\n",
            "7단을 출력 고고\n",
            "7 * 1 = 7\n",
            "7 * 2 = 14\n",
            "7 * 3 = 21\n",
            "7 * 4 = 28\n",
            "7 * 5 = 35\n",
            "7 * 6 = 42\n",
            "7 * 7 = 49\n",
            "7 * 8 = 56\n",
            "7 * 9 = 63\n",
            "\n",
            "8단을 출력 고고\n",
            "8 * 1 = 8\n",
            "8 * 2 = 16\n",
            "8 * 3 = 24\n",
            "8 * 4 = 32\n",
            "8 * 5 = 40\n",
            "8 * 6 = 48\n",
            "8 * 7 = 56\n",
            "8 * 8 = 64\n",
            "8 * 9 = 72\n",
            "\n",
            "9단을 출력 고고\n",
            "9 * 1 = 9\n",
            "9 * 2 = 18\n",
            "9 * 3 = 27\n",
            "9 * 4 = 36\n",
            "9 * 5 = 45\n",
            "9 * 6 = 54\n",
            "9 * 7 = 63\n",
            "9 * 8 = 72\n",
            "9 * 9 = 81\n",
            "\n"
          ]
        }
      ]
    },
    {
      "cell_type": "code",
      "source": [
        "i=1\n",
        "for i in range(1,10):\n",
        "  print(\"*\"*i)"
      ],
      "metadata": {
        "colab": {
          "base_uri": "https://localhost:8080/"
        },
        "id": "QY7S3JBI1JTT",
        "outputId": "17fde65d-a2eb-4ecf-aee1-fc8c0fefbd25"
      },
      "execution_count": null,
      "outputs": [
        {
          "output_type": "stream",
          "name": "stdout",
          "text": [
            "*\n",
            "**\n",
            "***\n",
            "****\n",
            "*****\n",
            "******\n",
            "*******\n",
            "********\n",
            "*********\n"
          ]
        }
      ]
    },
    {
      "cell_type": "code",
      "source": [
        "k=1\n",
        "while k<6:\n",
        "  for k in range(1,k+1):\n",
        "    print(k,end=\"\")\n",
        "  k+=1\n",
        "  print()"
      ],
      "metadata": {
        "colab": {
          "base_uri": "https://localhost:8080/"
        },
        "id": "QXuwAQuw2a6O",
        "outputId": "c2ab29c3-3b63-4b4e-decd-dd364cc57686"
      },
      "execution_count": null,
      "outputs": [
        {
          "output_type": "stream",
          "name": "stdout",
          "text": [
            "1\n",
            "12\n",
            "123\n",
            "1234\n",
            "12345\n"
          ]
        }
      ]
    },
    {
      "cell_type": "code",
      "source": [
        "for i in range(1, 6):  # i는 1부터 5까지 반복합니다 (range는 끝 값 전까지이므로 6을 사용합니다).\n",
        "    for j in range(1, i + 1):  # j는 1부터 i까지 반복합니다.\n",
        "        print(j, end=\"\")\n",
        "    print()  # 한 줄을 출력한 후 줄 바꿈을 합니다.\n"
      ],
      "metadata": {
        "colab": {
          "base_uri": "https://localhost:8080/"
        },
        "id": "L92ja6fn2-p6",
        "outputId": "5e1e0e94-3e4c-414a-a402-3f03c65f3fd2"
      },
      "execution_count": null,
      "outputs": [
        {
          "output_type": "stream",
          "name": "stdout",
          "text": [
            "1\n",
            "12\n",
            "123\n",
            "1234\n",
            "12345\n"
          ]
        }
      ]
    },
    {
      "cell_type": "code",
      "source": [
        "def hap(a,b):\n",
        "  return a+b\n",
        "hap(10,20)"
      ],
      "metadata": {
        "colab": {
          "base_uri": "https://localhost:8080/"
        },
        "id": "LE-jifxH5aGw",
        "outputId": "589417e5-972c-43e8-9ac5-93e193693570"
      },
      "execution_count": null,
      "outputs": [
        {
          "output_type": "execute_result",
          "data": {
            "text/plain": [
              "30"
            ]
          },
          "metadata": {},
          "execution_count": 46
        }
      ]
    },
    {
      "cell_type": "code",
      "source": [
        "def hap(a,b):\n",
        "  c=a+b\n",
        "  print(c)\n",
        "hap(10,20)"
      ],
      "metadata": {
        "colab": {
          "base_uri": "https://localhost:8080/"
        },
        "id": "12ZsPti8ADKA",
        "outputId": "9906738b-aa4a-4638-d0c3-791077432395"
      },
      "execution_count": null,
      "outputs": [
        {
          "output_type": "stream",
          "name": "stdout",
          "text": [
            "30\n"
          ]
        }
      ]
    },
    {
      "cell_type": "code",
      "source": [
        "def song():\n",
        "  for i in range(1,4):\n",
        "    print(\"바나바니 바니바니\")\n",
        "    print(\"당근당근\")\n",
        "\n",
        "song()"
      ],
      "metadata": {
        "colab": {
          "base_uri": "https://localhost:8080/"
        },
        "id": "zyx_OpfFAZI5",
        "outputId": "e92df917-c397-4d62-f8ac-f6d3427ab954"
      },
      "execution_count": null,
      "outputs": [
        {
          "output_type": "stream",
          "name": "stdout",
          "text": [
            "바나바니 바니바니\n",
            "당근당근\n",
            "바나바니 바니바니\n",
            "당근당근\n",
            "바나바니 바니바니\n",
            "당근당근\n"
          ]
        }
      ]
    },
    {
      "cell_type": "code",
      "source": [
        "def game(name,age):\n",
        "  print(f'{name}은 {age}살 입니다.')\n",
        "  song()\n",
        "\n",
        "\n",
        "game(\"홍길동\",30)"
      ],
      "metadata": {
        "colab": {
          "base_uri": "https://localhost:8080/"
        },
        "id": "HzBjBANRCA7q",
        "outputId": "8b54db38-4919-4f68-f9b4-5ed635f5f907"
      },
      "execution_count": null,
      "outputs": [
        {
          "output_type": "stream",
          "name": "stdout",
          "text": [
            "홍길동은 30살 입니다.\n",
            "바나바니 바니바니\n",
            "당근당근\n",
            "바나바니 바니바니\n",
            "당근당근\n",
            "바나바니 바니바니\n",
            "당근당근\n"
          ]
        }
      ]
    },
    {
      "cell_type": "code",
      "source": [
        "def order(num):\n",
        "  if num==1:\n",
        "    menu=\"짜장면\"\n",
        "    price=3000\n",
        "  elif num==2:\n",
        "    menu=\"짬뽕\"\n",
        "    price=4000\n",
        "  elif num==3:\n",
        "    menu=\"탕수육\"\n",
        "    price=5000\n",
        "  elif num==4:\n",
        "    menu=\"양장피\"\n",
        "    price=6000\n",
        "  else:\n",
        "    print(\"다른 메뉴 번호를 입력해줘\")\n",
        "  print(f'주문한 메뉴는 {menu}이며 가격은 {price}입니다.')"
      ],
      "metadata": {
        "id": "ur2YR75kHlZ1"
      },
      "execution_count": null,
      "outputs": []
    },
    {
      "cell_type": "code",
      "source": [
        "while True:\n",
        "  print(\"주문해주세요\")\n",
        "  print(\"1.짜장면 2.짬뽕 3.탕수육 4.양장피\")\n",
        "  num=input(\"먹고 싶은 메뉴의 번호를 입력해주세요(종료는 끝)\")\n",
        "\n",
        "  if num==\"끝\":\n",
        "    break\n",
        "  else:\n",
        "    order(int(num))"
      ],
      "metadata": {
        "colab": {
          "base_uri": "https://localhost:8080/"
        },
        "id": "GjJivUOmIr3O",
        "outputId": "399ee8f1-0631-47f3-bf4a-e40c391875e9"
      },
      "execution_count": null,
      "outputs": [
        {
          "name": "stdout",
          "output_type": "stream",
          "text": [
            "주문해주세요\n",
            "1.짜장면 2.짬뽕 3.탕수육 4.양장피\n",
            "먹고 싶은 메뉴의 번호를 입력해주세요(종료는 끝)3\n",
            "주문한 메뉴는탕수육이며 가격은 5000\n",
            "주문해주세요\n",
            "1.짜장면 2.짬뽕 3.탕수육 4.양장피\n",
            "먹고 싶은 메뉴의 번호를 입력해주세요(종료는 끝)끝\n"
          ]
        }
      ]
    },
    {
      "cell_type": "code",
      "source": [
        "def grade(score):\n",
        "  if score>=90 and score<100:\n",
        "    grade=\"A\"\n",
        "  elif score>=80 and score<90:\n",
        "    grade=\"B\"\n",
        "  elif score>=70 and score<80:\n",
        "    grade=\"C\"\n",
        "  elif score>=60 and score<70:\n",
        "    grade=\"D\"\n",
        "  else:\n",
        "    grade=\"F\"\n",
        "  return grade"
      ],
      "metadata": {
        "id": "BMpSbb8YMQsI"
      },
      "execution_count": null,
      "outputs": []
    },
    {
      "cell_type": "code",
      "source": [
        "while True:\n",
        "  a=input(\"성적확인[종료:x, 계속:enter]>>\")\n",
        "  if a==\"x\":\n",
        "    break\n",
        "  else:\n",
        "    name=input(\"이름을 입력해주세요\")\n",
        "    score=int(input(\"성적을 입력해주세요\"))\n",
        "    print(f'{name}의 성적은 {grade(score)}입니다.')"
      ],
      "metadata": {
        "colab": {
          "base_uri": "https://localhost:8080/"
        },
        "id": "Xq25vts_JPuI",
        "outputId": "72720e84-c137-4baf-b98d-c9c0c1ffd7e1"
      },
      "execution_count": null,
      "outputs": [
        {
          "name": "stdout",
          "output_type": "stream",
          "text": [
            "성적확인[종료:x, 계속:enter]>>\n"
          ]
        }
      ]
    },
    {
      "cell_type": "code",
      "source": [],
      "metadata": {
        "id": "8EN_sGAYNRmO"
      },
      "execution_count": null,
      "outputs": []
    }
  ]
}