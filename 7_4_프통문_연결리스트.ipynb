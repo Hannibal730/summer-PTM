{
  "nbformat": 4,
  "nbformat_minor": 0,
  "metadata": {
    "colab": {
      "provenance": [],
      "authorship_tag": "ABX9TyP5znUikdhyisbvMwZ60RsI",
      "include_colab_link": true
    },
    "kernelspec": {
      "name": "python3",
      "display_name": "Python 3"
    },
    "language_info": {
      "name": "python"
    }
  },
  "cells": [
    {
      "cell_type": "markdown",
      "metadata": {
        "id": "view-in-github",
        "colab_type": "text"
      },
      "source": [
        "<a href=\"https://colab.research.google.com/github/Hannibal730/summer-PTM/blob/main/7_4_%ED%94%84%ED%86%B5%EB%AC%B8_%EC%9E%90%EB%A3%8C%EA%B5%AC%EC%A1%B0.ipynb\" target=\"_parent\"><img src=\"https://colab.research.google.com/assets/colab-badge.svg\" alt=\"Open In Colab\"/></a>"
      ]
    },
    {
      "cell_type": "code",
      "execution_count": null,
      "metadata": {
        "colab": {
          "base_uri": "https://localhost:8080/"
        },
        "id": "sVygjm6cmWXb",
        "outputId": "85481cda-c181-4996-c43c-d72069aef02b"
      },
      "outputs": [
        {
          "output_type": "stream",
          "name": "stdout",
          "text": [
            "주소값:h\n",
            "해당 노드에 저장된 값(데이터):8\n",
            "주소값:t\n",
            "해당 노드에 저장된 값(데이터):4\n",
            "주소값:u\n",
            "해당 노드에 저장된 값(데이터):9\n",
            "final node\n"
          ]
        }
      ],
      "source": [
        "a={'h':[8,'t'], 't':[4,'u'], 'u':[9,None]}\n",
        "\n",
        "def linkedlist(a,root):\n",
        "  head=root\n",
        "  node_next=head\n",
        "  print(f'주소값:{node_next}')\n",
        "\n",
        "  while True:\n",
        "    node_value=a[node_next][0]\n",
        "    print(f'해당 노드에 저장된 값(데이터):{node_value}')\n",
        "    node_next=a[node_next][1]\n",
        "    if node_next==None:\n",
        "      print(\"final node\")\n",
        "      break\n",
        "    print(f'주소값:{node_next}')\n",
        "\n",
        "linkedlist(a,'h')"
      ]
    },
    {
      "cell_type": "code",
      "source": [],
      "metadata": {
        "id": "qFnEK9O3p3DP"
      },
      "execution_count": null,
      "outputs": []
    }
  ]
}
